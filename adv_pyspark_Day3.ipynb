{
  "nbformat": 4,
  "nbformat_minor": 0,
  "metadata": {
    "colab": {
      "provenance": [],
      "authorship_tag": "ABX9TyPDrFtT5obOFivh9vdj91pL",
      "include_colab_link": true
    },
    "kernelspec": {
      "name": "python3",
      "display_name": "Python 3"
    },
    "language_info": {
      "name": "python"
    }
  },
  "cells": [
    {
      "cell_type": "markdown",
      "metadata": {
        "id": "view-in-github",
        "colab_type": "text"
      },
      "source": [
        "<a href=\"https://colab.research.google.com/github/chinnuanna123/spark/blob/main/adv_pyspark_Day3.ipynb\" target=\"_parent\"><img src=\"https://colab.research.google.com/assets/colab-badge.svg\" alt=\"Open In Colab\"/></a>"
      ]
    },
    {
      "cell_type": "markdown",
      "source": [
        "Defining a Schema (Explicitly):"
      ],
      "metadata": {
        "id": "JCVDqCc1voUx"
      }
    },
    {
      "cell_type": "code",
      "execution_count": 2,
      "metadata": {
        "id": "AFPEDp_ZuwFw"
      },
      "outputs": [],
      "source": [
        "from pyspark.sql.types import StructType, StructField, StringType, IntegerType\n",
        "from pyspark.sql import SparkSession\n",
        "spark=SparkSession.builder.appName(\"schema\").getOrCreate()\n",
        "\n",
        "schema = StructType([\n",
        "    StructField(\"EMPLOYEE_ID\", IntegerType(), True),\n",
        "    StructField(\"FIRST_NAME\", StringType(), True),\n",
        "    StructField(\"LAST_NAME\", StringType(), True),\n",
        "    StructField(\"EMAIL\", StringType(), True),\n",
        "    StructField(\"PHONE_NUMBER\", StringType(), True),\n",
        "    StructField(\"HIRE_DATE\", StringType(), True),\n",
        "    StructField(\"JOB_ID\", StringType(), True),\n",
        "    StructField(\"SALARY\", IntegerType(), True),\n",
        "    StructField(\"COMMISSION_PCT\", StringType(), True),\n",
        "    StructField(\"MANAGER_ID\", IntegerType(), True),\n",
        "    StructField(\"DEPARTMENT_ID\", IntegerType(), True)\n",
        "\n",
        "])\n",
        "\n",
        "df = spark.read.format(\"csv\").option(\"header\",\"True\").schema(schema).load(\"employees.csv\")\n"
      ]
    },
    {
      "cell_type": "code",
      "source": [
        "df.show()"
      ],
      "metadata": {
        "colab": {
          "base_uri": "https://localhost:8080/"
        },
        "id": "8Dm3gQsQylz1",
        "outputId": "72378534-7797-4e26-8a18-73a2ac7956d0"
      },
      "execution_count": 3,
      "outputs": [
        {
          "output_type": "stream",
          "name": "stdout",
          "text": [
            "+-----------+----------+---------+--------+------------+---------+----------+------+--------------+----------+-------------+\n",
            "|EMPLOYEE_ID|FIRST_NAME|LAST_NAME|   EMAIL|PHONE_NUMBER|HIRE_DATE|    JOB_ID|SALARY|COMMISSION_PCT|MANAGER_ID|DEPARTMENT_ID|\n",
            "+-----------+----------+---------+--------+------------+---------+----------+------+--------------+----------+-------------+\n",
            "|        198|    Donald| OConnell|DOCONNEL|650.507.9833|21-JUN-07|  SH_CLERK|  2600|            - |       124|           50|\n",
            "|        199|   Douglas|    Grant|  DGRANT|650.507.9844|13-JAN-08|  SH_CLERK|  2600|            - |       124|           50|\n",
            "|        200|  Jennifer|   Whalen| JWHALEN|515.123.4444|17-SEP-03|   AD_ASST|  4400|            - |       101|           10|\n",
            "|        201|   Michael|Hartstein|MHARTSTE|515.123.5555|17-FEB-04|    MK_MAN| 13000|            - |       100|           20|\n",
            "|        202|       Pat|      Fay|    PFAY|603.123.6666|17-AUG-05|    MK_REP|  6000|            - |       201|           20|\n",
            "|        203|     Susan|   Mavris| SMAVRIS|515.123.7777|07-JUN-02|    HR_REP|  6500|            - |       101|           40|\n",
            "|        204|   Hermann|     Baer|   HBAER|515.123.8888|07-JUN-02|    PR_REP| 10000|            - |       101|           70|\n",
            "|        205|   Shelley|  Higgins|SHIGGINS|515.123.8080|07-JUN-02|    AC_MGR| 12008|            - |       101|          110|\n",
            "|        206|   William|    Gietz|  WGIETZ|515.123.8181|07-JUN-02|AC_ACCOUNT|  8300|            - |       205|          110|\n",
            "|        100|    Steven|     King|   SKING|515.123.4567|17-JUN-03|   AD_PRES| 24000|            - |      NULL|           90|\n",
            "|        101|     Neena|  Kochhar|NKOCHHAR|515.123.4568|21-SEP-05|     AD_VP| 17000|            - |       100|           90|\n",
            "|        102|       Lex|  De Haan| LDEHAAN|515.123.4569|13-JAN-01|     AD_VP| 17000|            - |       100|           90|\n",
            "|        103| Alexander|   Hunold| AHUNOLD|590.423.4567|03-JAN-06|   IT_PROG|  9000|            - |       102|           60|\n",
            "|        104|     Bruce|    Ernst|  BERNST|590.423.4568|21-MAY-07|   IT_PROG|  6000|            - |       103|           60|\n",
            "|        105|     David|   Austin| DAUSTIN|590.423.4569|25-JUN-05|   IT_PROG|  4800|            - |       103|           60|\n",
            "|        106|     Valli|Pataballa|VPATABAL|590.423.4560|05-FEB-06|   IT_PROG|  4800|            - |       103|           60|\n",
            "|        107|     Diana|  Lorentz|DLORENTZ|590.423.5567|07-FEB-07|   IT_PROG|  4200|            - |       103|           60|\n",
            "|        108|     Nancy|Greenberg|NGREENBE|515.124.4569|17-AUG-02|    FI_MGR| 12008|            - |       101|          100|\n",
            "|        109|    Daniel|   Faviet| DFAVIET|515.124.4169|16-AUG-02|FI_ACCOUNT|  9000|            - |       108|          100|\n",
            "|        110|      John|     Chen|   JCHEN|515.124.4269|28-SEP-05|FI_ACCOUNT|  8200|            - |       108|          100|\n",
            "+-----------+----------+---------+--------+------------+---------+----------+------+--------------+----------+-------------+\n",
            "only showing top 20 rows\n",
            "\n"
          ]
        }
      ]
    },
    {
      "cell_type": "markdown",
      "source": [
        "Schema Inference"
      ],
      "metadata": {
        "id": "VAEr4Lo72JLs"
      }
    },
    {
      "cell_type": "code",
      "source": [
        "df=spark.read.csv(\"employees.csv\",header=True,inferSchema=True)\n",
        "df.printSchema()"
      ],
      "metadata": {
        "colab": {
          "base_uri": "https://localhost:8080/"
        },
        "id": "mQAQKbbZ2KMx",
        "outputId": "2b187305-0584-4eb4-ad86-919ce83e47fd"
      },
      "execution_count": 4,
      "outputs": [
        {
          "output_type": "stream",
          "name": "stdout",
          "text": [
            "root\n",
            " |-- EMPLOYEE_ID: integer (nullable = true)\n",
            " |-- FIRST_NAME: string (nullable = true)\n",
            " |-- LAST_NAME: string (nullable = true)\n",
            " |-- EMAIL: string (nullable = true)\n",
            " |-- PHONE_NUMBER: string (nullable = true)\n",
            " |-- HIRE_DATE: string (nullable = true)\n",
            " |-- JOB_ID: string (nullable = true)\n",
            " |-- SALARY: integer (nullable = true)\n",
            " |-- COMMISSION_PCT: string (nullable = true)\n",
            " |-- MANAGER_ID: string (nullable = true)\n",
            " |-- DEPARTMENT_ID: integer (nullable = true)\n",
            "\n"
          ]
        }
      ]
    },
    {
      "cell_type": "markdown",
      "source": [
        "Simulate adding a new column to an existing DataFrame."
      ],
      "metadata": {
        "id": "b28DADE3Aie8"
      }
    },
    {
      "cell_type": "code",
      "source": [
        "from pyspark.sql import SparkSession\n",
        "from pyspark.sql.types import StructType, StructField, StringType, IntegerType\n",
        "from pyspark.sql.functions import lit,col\n",
        "spark=SparkSession.builder.appName(\"Dataframe_Sql\").getOrCreate()\n"
      ],
      "metadata": {
        "id": "rJLkNUbbCMfF"
      },
      "execution_count": 6,
      "outputs": []
    },
    {
      "cell_type": "markdown",
      "source": [
        "Querying a DataFrame with SQL"
      ],
      "metadata": {
        "id": "ZAWJhdJqFRFU"
      }
    },
    {
      "cell_type": "code",
      "source": [
        "from pyspark.sql import SparkSession\n",
        "\n",
        "spark = SparkSession.builder.appName(\"SQL Query on DataFrame\").getOrCreate()\n",
        "\n",
        "data = [(\"John\", 101, \"Manager\",75000),\n",
        "        (\"Emma\", 102, \"Developer\",50000),\n",
        "        (\"Sophia\", 103, \"Analyst\",35000),\n",
        "        (\"Mike\", 104, \"Developer\", 55000)]\n",
        "\n",
        "columns = [\"Name\", \"ID\", \"Job\",\"Salary\"]\n",
        "df = spark.createDataFrame(data, columns)\n",
        "df.show()\n",
        "\n",
        "df.createOrReplaceTempView(\"employee_view\")\n",
        "spark.sql(\"SELECT * FROM employee_view\").show()\n",
        "\n",
        "result = spark.sql(\"SELECT * FROM employee_view WHERE Job = 'Developer'\")\n",
        "result.show()\n",
        "\n",
        "\n",
        "count = spark.sql(\"SELECT COUNT(*) FROM employee_view\")\n",
        "count.show()\n"
      ],
      "metadata": {
        "colab": {
          "base_uri": "https://localhost:8080/"
        },
        "id": "Ci6mmygcFSrD",
        "outputId": "dee35428-1f40-4f74-cb33-72e93a0e732e"
      },
      "execution_count": 11,
      "outputs": [
        {
          "output_type": "stream",
          "name": "stdout",
          "text": [
            "+------+---+---------+------+\n",
            "|  Name| ID|      Job|Salary|\n",
            "+------+---+---------+------+\n",
            "|  John|101|  Manager| 75000|\n",
            "|  Emma|102|Developer| 50000|\n",
            "|Sophia|103|  Analyst| 35000|\n",
            "|  Mike|104|Developer| 55000|\n",
            "+------+---+---------+------+\n",
            "\n",
            "+------+---+---------+------+\n",
            "|  Name| ID|      Job|Salary|\n",
            "+------+---+---------+------+\n",
            "|  John|101|  Manager| 75000|\n",
            "|  Emma|102|Developer| 50000|\n",
            "|Sophia|103|  Analyst| 35000|\n",
            "|  Mike|104|Developer| 55000|\n",
            "+------+---+---------+------+\n",
            "\n",
            "+----+---+---------+------+\n",
            "|Name| ID|      Job|Salary|\n",
            "+----+---+---------+------+\n",
            "|Emma|102|Developer| 50000|\n",
            "|Mike|104|Developer| 55000|\n",
            "+----+---+---------+------+\n",
            "\n",
            "+--------+\n",
            "|count(1)|\n",
            "+--------+\n",
            "|       4|\n",
            "+--------+\n",
            "\n"
          ]
        }
      ]
    },
    {
      "cell_type": "markdown",
      "source": [
        "Using Aggregation"
      ],
      "metadata": {
        "id": "v9L2K6p9HHhb"
      }
    },
    {
      "cell_type": "code",
      "source": [
        "spark.sql(\"SELECT Name, AVG(Salary) FROM employee_view GROUP BY Name\").show()"
      ],
      "metadata": {
        "colab": {
          "base_uri": "https://localhost:8080/"
        },
        "id": "w0Wlg0ImHkis",
        "outputId": "79a0dae9-ac4b-4bc0-e9f9-f93cb3043be8"
      },
      "execution_count": 14,
      "outputs": [
        {
          "output_type": "stream",
          "name": "stdout",
          "text": [
            "+------+-----------+\n",
            "|  Name|avg(Salary)|\n",
            "+------+-----------+\n",
            "|  John|    75000.0|\n",
            "|  Emma|    50000.0|\n",
            "|  Mike|    55000.0|\n",
            "|Sophia|    35000.0|\n",
            "+------+-----------+\n",
            "\n"
          ]
        }
      ]
    },
    {
      "cell_type": "markdown",
      "source": [
        "Sorting the data"
      ],
      "metadata": {
        "id": "zzv___biIUXb"
      }
    },
    {
      "cell_type": "code",
      "source": [
        "spark.sql(\"SELECT * FROM employee_view ORDER BY Salary DESC\").show()"
      ],
      "metadata": {
        "colab": {
          "base_uri": "https://localhost:8080/"
        },
        "id": "XGWaopMOIVci",
        "outputId": "9a419275-73b1-4015-edd0-d062ff4de0b3"
      },
      "execution_count": 15,
      "outputs": [
        {
          "output_type": "stream",
          "name": "stdout",
          "text": [
            "+------+---+---------+------+\n",
            "|  Name| ID|      Job|Salary|\n",
            "+------+---+---------+------+\n",
            "|  John|101|  Manager| 75000|\n",
            "|  Mike|104|Developer| 55000|\n",
            "|  Emma|102|Developer| 50000|\n",
            "|Sophia|103|  Analyst| 35000|\n",
            "+------+---+---------+------+\n",
            "\n"
          ]
        }
      ]
    }
  ]
}