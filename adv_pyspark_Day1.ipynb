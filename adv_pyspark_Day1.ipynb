{
  "nbformat": 4,
  "nbformat_minor": 0,
  "metadata": {
    "colab": {
      "provenance": [],
      "authorship_tag": "ABX9TyNpycbk8PTN+MJCBU2+tdGM",
      "include_colab_link": true
    },
    "kernelspec": {
      "name": "python3",
      "display_name": "Python 3"
    },
    "language_info": {
      "name": "python"
    }
  },
  "cells": [
    {
      "cell_type": "markdown",
      "metadata": {
        "id": "view-in-github",
        "colab_type": "text"
      },
      "source": [
        "<a href=\"https://colab.research.google.com/github/chinnuanna123/spark/blob/main/adv_pyspark_Day1.ipynb\" target=\"_parent\"><img src=\"https://colab.research.google.com/assets/colab-badge.svg\" alt=\"Open In Colab\"/></a>"
      ]
    },
    {
      "cell_type": "code",
      "execution_count": 1,
      "metadata": {
        "colab": {
          "base_uri": "https://localhost:8080/"
        },
        "id": "En6E35yTzduZ",
        "outputId": "7b59c3c0-4787-4901-ded0-45c1ebd203e0"
      },
      "outputs": [
        {
          "output_type": "stream",
          "name": "stdout",
          "text": [
            "Requirement already satisfied: pyspark in /usr/local/lib/python3.11/dist-packages (3.5.5)\n",
            "Requirement already satisfied: py4j==0.10.9.7 in /usr/local/lib/python3.11/dist-packages (from pyspark) (0.10.9.7)\n"
          ]
        }
      ],
      "source": [
        "!pip install pyspark"
      ]
    },
    {
      "cell_type": "code",
      "source": [
        "from pyspark.sql import SparkSession\n",
        "from pyspark.sql.functions import col, when, lit"
      ],
      "metadata": {
        "id": "gTU_lrEF1M58"
      },
      "execution_count": 12,
      "outputs": []
    },
    {
      "cell_type": "code",
      "source": [
        "spark=SparkSession.builder.appName('Practise').getOrCreate()"
      ],
      "metadata": {
        "id": "rRJBgoGA1U3E"
      },
      "execution_count": 3,
      "outputs": []
    },
    {
      "cell_type": "code",
      "source": [
        "data = [\n",
        "    (\"P001\", \"Laptop\", \"Electronics\", 75000.0, 120, \"2025-03-10 09:00:00\"),\n",
        "    (\"P002\", \"Smartphone\", \"Electronics\", 25000.0, 200, \"2025-03-10 09:15:00\"),\n",
        "    (\"P003\", \"Headphones\", \"Accessories\", 1500.0, 500, \"2025-03-10 09:30:00\"),\n",
        "    (\"P004\", \"Chair\", \"Furniture\", 4500.0, 80, \"2025-03-10 09:45:00\"),\n",
        "    (\"P005\", \"Notebook\", \"Stationery\", 50.0, 1000, \"2025-03-10 10:00:00\")\n",
        "]"
      ],
      "metadata": {
        "id": "izlZ0-Xa1yhV"
      },
      "execution_count": 4,
      "outputs": []
    },
    {
      "cell_type": "code",
      "source": [
        "columns = [\"product_id\", \"product_name\", \"category\", \"price\", \"quantity_in_stock\", \"date_added\"]"
      ],
      "metadata": {
        "id": "nT3s8Yfz1zfU"
      },
      "execution_count": 5,
      "outputs": []
    },
    {
      "cell_type": "code",
      "source": [
        "df = spark.createDataFrame(data, columns)"
      ],
      "metadata": {
        "id": "uPIwiTTH1-j8"
      },
      "execution_count": 6,
      "outputs": []
    },
    {
      "cell_type": "code",
      "source": [
        "df.show()"
      ],
      "metadata": {
        "colab": {
          "base_uri": "https://localhost:8080/"
        },
        "id": "TGkbqLx82DPN",
        "outputId": "979fcf7a-9d93-436c-9048-77086a509a84"
      },
      "execution_count": 7,
      "outputs": [
        {
          "output_type": "stream",
          "name": "stdout",
          "text": [
            "+----------+------------+-----------+-------+-----------------+-------------------+\n",
            "|product_id|product_name|   category|  price|quantity_in_stock|         date_added|\n",
            "+----------+------------+-----------+-------+-----------------+-------------------+\n",
            "|      P001|      Laptop|Electronics|75000.0|              120|2025-03-10 09:00:00|\n",
            "|      P002|  Smartphone|Electronics|25000.0|              200|2025-03-10 09:15:00|\n",
            "|      P003|  Headphones|Accessories| 1500.0|              500|2025-03-10 09:30:00|\n",
            "|      P004|       Chair|  Furniture| 4500.0|               80|2025-03-10 09:45:00|\n",
            "|      P005|    Notebook| Stationery|   50.0|             1000|2025-03-10 10:00:00|\n",
            "+----------+------------+-----------+-------+-----------------+-------------------+\n",
            "\n"
          ]
        }
      ]
    },
    {
      "cell_type": "markdown",
      "source": [
        "Selecting Specific Columns"
      ],
      "metadata": {
        "id": "u5vxil3J3zL7"
      }
    },
    {
      "cell_type": "code",
      "source": [
        "df.select(\"product_id\", \"product_name\").show()"
      ],
      "metadata": {
        "colab": {
          "base_uri": "https://localhost:8080/"
        },
        "id": "n4AdvcLq3xBY",
        "outputId": "8e389691-1107-4aa6-fa94-165dd4074e44"
      },
      "execution_count": 10,
      "outputs": [
        {
          "output_type": "stream",
          "name": "stdout",
          "text": [
            "+----------+------------+\n",
            "|product_id|product_name|\n",
            "+----------+------------+\n",
            "|      P001|      Laptop|\n",
            "|      P002|  Smartphone|\n",
            "|      P003|  Headphones|\n",
            "|      P004|       Chair|\n",
            "|      P005|    Notebook|\n",
            "+----------+------------+\n",
            "\n"
          ]
        }
      ]
    },
    {
      "cell_type": "markdown",
      "source": [
        " Filtering Rows"
      ],
      "metadata": {
        "id": "a0YPfEBU6bSN"
      }
    },
    {
      "cell_type": "code",
      "source": [
        "df.filter(col('category')=='Electronics').show()"
      ],
      "metadata": {
        "colab": {
          "base_uri": "https://localhost:8080/"
        },
        "id": "R5D3Hw_u48lz",
        "outputId": "e58c4f13-a885-49a5-a2c8-8721ea8c4bbe"
      },
      "execution_count": 16,
      "outputs": [
        {
          "output_type": "stream",
          "name": "stdout",
          "text": [
            "+----------+------------+-----------+-------+-----------------+-------------------+\n",
            "|product_id|product_name|   category|  price|quantity_in_stock|         date_added|\n",
            "+----------+------------+-----------+-------+-----------------+-------------------+\n",
            "|      P001|      Laptop|Electronics|75000.0|              120|2025-03-10 09:00:00|\n",
            "|      P002|  Smartphone|Electronics|25000.0|              200|2025-03-10 09:15:00|\n",
            "+----------+------------+-----------+-------+-----------------+-------------------+\n",
            "\n"
          ]
        }
      ]
    },
    {
      "cell_type": "markdown",
      "source": [
        "Using where()"
      ],
      "metadata": {
        "id": "yCYJKzgl6dAW"
      }
    },
    {
      "cell_type": "code",
      "source": [
        "df.where(col('category')=='Electronics').show()"
      ],
      "metadata": {
        "colab": {
          "base_uri": "https://localhost:8080/"
        },
        "id": "sHM2XRDU6qQV",
        "outputId": "ad8d3403-101a-4020-a497-7f06d9fdb6d6"
      },
      "execution_count": 17,
      "outputs": [
        {
          "output_type": "stream",
          "name": "stdout",
          "text": [
            "+----------+------------+-----------+-------+-----------------+-------------------+\n",
            "|product_id|product_name|   category|  price|quantity_in_stock|         date_added|\n",
            "+----------+------------+-----------+-------+-----------------+-------------------+\n",
            "|      P001|      Laptop|Electronics|75000.0|              120|2025-03-10 09:00:00|\n",
            "|      P002|  Smartphone|Electronics|25000.0|              200|2025-03-10 09:15:00|\n",
            "+----------+------------+-----------+-------+-----------------+-------------------+\n",
            "\n"
          ]
        }
      ]
    },
    {
      "cell_type": "code",
      "source": [
        "df.where(col('price')>50000).show()"
      ],
      "metadata": {
        "colab": {
          "base_uri": "https://localhost:8080/"
        },
        "id": "-l69ju__7pfB",
        "outputId": "9bb42b47-d450-4146-ac5f-19e147368ef6"
      },
      "execution_count": 18,
      "outputs": [
        {
          "output_type": "stream",
          "name": "stdout",
          "text": [
            "+----------+------------+-----------+-------+-----------------+-------------------+\n",
            "|product_id|product_name|   category|  price|quantity_in_stock|         date_added|\n",
            "+----------+------------+-----------+-------+-----------------+-------------------+\n",
            "|      P001|      Laptop|Electronics|75000.0|              120|2025-03-10 09:00:00|\n",
            "+----------+------------+-----------+-------+-----------------+-------------------+\n",
            "\n"
          ]
        }
      ]
    },
    {
      "cell_type": "code",
      "source": [
        "df.filter((col('category')=='Electronics')&(col('quantity_in_stock')>130)).show()"
      ],
      "metadata": {
        "colab": {
          "base_uri": "https://localhost:8080/"
        },
        "id": "GQoF72GcUC-z",
        "outputId": "972c936b-a684-40dc-e7cd-5dbbec7e97ef"
      },
      "execution_count": 20,
      "outputs": [
        {
          "output_type": "stream",
          "name": "stdout",
          "text": [
            "+----------+------------+-----------+-------+-----------------+-------------------+\n",
            "|product_id|product_name|   category|  price|quantity_in_stock|         date_added|\n",
            "+----------+------------+-----------+-------+-----------------+-------------------+\n",
            "|      P002|  Smartphone|Electronics|25000.0|              200|2025-03-10 09:15:00|\n",
            "+----------+------------+-----------+-------+-----------------+-------------------+\n",
            "\n"
          ]
        }
      ]
    },
    {
      "cell_type": "code",
      "source": [
        "df.select(\"category\").where(col('quantity_in_stock')>130).show()"
      ],
      "metadata": {
        "colab": {
          "base_uri": "https://localhost:8080/"
        },
        "id": "KZ_wfNdrWlVp",
        "outputId": "5073252f-49d9-4bd2-db24-661613412519"
      },
      "execution_count": 26,
      "outputs": [
        {
          "output_type": "stream",
          "name": "stdout",
          "text": [
            "+-----------+\n",
            "|   category|\n",
            "+-----------+\n",
            "|Electronics|\n",
            "|Accessories|\n",
            "| Stationery|\n",
            "+-----------+\n",
            "\n"
          ]
        }
      ]
    },
    {
      "cell_type": "code",
      "source": [
        "df.count()"
      ],
      "metadata": {
        "colab": {
          "base_uri": "https://localhost:8080/"
        },
        "id": "9HPdDTPjabDQ",
        "outputId": "eed25b07-4ec9-44d3-ba2f-b1413a072db8"
      },
      "execution_count": 29,
      "outputs": [
        {
          "output_type": "execute_result",
          "data": {
            "text/plain": [
              "5"
            ]
          },
          "metadata": {},
          "execution_count": 29
        }
      ]
    },
    {
      "cell_type": "code",
      "source": [
        "df.filter(df.category=='Electronics').count()"
      ],
      "metadata": {
        "colab": {
          "base_uri": "https://localhost:8080/"
        },
        "id": "guXbxbTLakOv",
        "outputId": "403b284a-4f75-4d76-fdfd-6cdcfbdca950"
      },
      "execution_count": 32,
      "outputs": [
        {
          "output_type": "execute_result",
          "data": {
            "text/plain": [
              "2"
            ]
          },
          "metadata": {},
          "execution_count": 32
        }
      ]
    },
    {
      "cell_type": "code",
      "source": [
        "df.filter(col('category')=='Electronics').count()"
      ],
      "metadata": {
        "colab": {
          "base_uri": "https://localhost:8080/"
        },
        "id": "3nvuUL1tbZlT",
        "outputId": "14442ce1-ff45-4306-af31-3192ed280099"
      },
      "execution_count": 35,
      "outputs": [
        {
          "output_type": "execute_result",
          "data": {
            "text/plain": [
              "2"
            ]
          },
          "metadata": {},
          "execution_count": 35
        }
      ]
    },
    {
      "cell_type": "markdown",
      "source": [
        "Collecting Data Into a List"
      ],
      "metadata": {
        "id": "B1VTk88Oc-U7"
      }
    },
    {
      "cell_type": "code",
      "source": [
        "df.collect()"
      ],
      "metadata": {
        "colab": {
          "base_uri": "https://localhost:8080/"
        },
        "id": "C7rPiqqmWo9j",
        "outputId": "f994d8ff-62a9-43d1-e89c-b68c5abbd81b"
      },
      "execution_count": 36,
      "outputs": [
        {
          "output_type": "execute_result",
          "data": {
            "text/plain": [
              "[Row(product_id='P001', product_name='Laptop', category='Electronics', price=75000.0, quantity_in_stock=120, date_added='2025-03-10 09:00:00'),\n",
              " Row(product_id='P002', product_name='Smartphone', category='Electronics', price=25000.0, quantity_in_stock=200, date_added='2025-03-10 09:15:00'),\n",
              " Row(product_id='P003', product_name='Headphones', category='Accessories', price=1500.0, quantity_in_stock=500, date_added='2025-03-10 09:30:00'),\n",
              " Row(product_id='P004', product_name='Chair', category='Furniture', price=4500.0, quantity_in_stock=80, date_added='2025-03-10 09:45:00'),\n",
              " Row(product_id='P005', product_name='Notebook', category='Stationery', price=50.0, quantity_in_stock=1000, date_added='2025-03-10 10:00:00')]"
            ]
          },
          "metadata": {},
          "execution_count": 36
        }
      ]
    },
    {
      "cell_type": "markdown",
      "source": [
        "Using withColumn() to Add or Modify Columns"
      ],
      "metadata": {
        "id": "bGqqEJ7tixCs"
      }
    },
    {
      "cell_type": "code",
      "source": [
        "df.withColumn('discount_price',col('price')*0.9).show()"
      ],
      "metadata": {
        "colab": {
          "base_uri": "https://localhost:8080/"
        },
        "id": "S3lzcjICiwIc",
        "outputId": "312f38bc-7cd3-44fb-f7b4-c077e25f9550"
      },
      "execution_count": 37,
      "outputs": [
        {
          "output_type": "stream",
          "name": "stdout",
          "text": [
            "+----------+------------+-----------+-------+-----------------+-------------------+--------------+\n",
            "|product_id|product_name|   category|  price|quantity_in_stock|         date_added|discount_price|\n",
            "+----------+------------+-----------+-------+-----------------+-------------------+--------------+\n",
            "|      P001|      Laptop|Electronics|75000.0|              120|2025-03-10 09:00:00|       67500.0|\n",
            "|      P002|  Smartphone|Electronics|25000.0|              200|2025-03-10 09:15:00|       22500.0|\n",
            "|      P003|  Headphones|Accessories| 1500.0|              500|2025-03-10 09:30:00|        1350.0|\n",
            "|      P004|       Chair|  Furniture| 4500.0|               80|2025-03-10 09:45:00|        4050.0|\n",
            "|      P005|    Notebook| Stationery|   50.0|             1000|2025-03-10 10:00:00|          45.0|\n",
            "+----------+------------+-----------+-------+-----------------+-------------------+--------------+\n",
            "\n"
          ]
        }
      ]
    },
    {
      "cell_type": "code",
      "source": [
        "df.withColumn('discount_price',col('price')*0.9).select('product_name','discount_price').show()"
      ],
      "metadata": {
        "colab": {
          "base_uri": "https://localhost:8080/"
        },
        "id": "I_2vdMQwjMmq",
        "outputId": "6e62683a-f666-4211-f920-b03920e662eb"
      },
      "execution_count": 38,
      "outputs": [
        {
          "output_type": "stream",
          "name": "stdout",
          "text": [
            "+------------+--------------+\n",
            "|product_name|discount_price|\n",
            "+------------+--------------+\n",
            "|      Laptop|       67500.0|\n",
            "|  Smartphone|       22500.0|\n",
            "|  Headphones|        1350.0|\n",
            "|       Chair|        4050.0|\n",
            "|    Notebook|          45.0|\n",
            "+------------+--------------+\n",
            "\n"
          ]
        }
      ]
    },
    {
      "cell_type": "code",
      "source": [
        "df.select('quantity_in_stock').show()"
      ],
      "metadata": {
        "colab": {
          "base_uri": "https://localhost:8080/"
        },
        "id": "dbRvbGRijui1",
        "outputId": "3037e6e6-9393-4145-8764-0603f746dbbf"
      },
      "execution_count": 40,
      "outputs": [
        {
          "output_type": "stream",
          "name": "stdout",
          "text": [
            "+-----------------+\n",
            "|quantity_in_stock|\n",
            "+-----------------+\n",
            "|              120|\n",
            "|              200|\n",
            "|              500|\n",
            "|               80|\n",
            "|             1000|\n",
            "+-----------------+\n",
            "\n"
          ]
        }
      ]
    },
    {
      "cell_type": "code",
      "source": [
        "df.withColumn('quantity_in_stock',col('quantity_in_stock')+10).show()"
      ],
      "metadata": {
        "colab": {
          "base_uri": "https://localhost:8080/"
        },
        "id": "xJ5ue4hVjc6g",
        "outputId": "55444d99-8fe5-478f-81c1-d917338f235e"
      },
      "execution_count": 39,
      "outputs": [
        {
          "output_type": "stream",
          "name": "stdout",
          "text": [
            "+----------+------------+-----------+-------+-----------------+-------------------+\n",
            "|product_id|product_name|   category|  price|quantity_in_stock|         date_added|\n",
            "+----------+------------+-----------+-------+-----------------+-------------------+\n",
            "|      P001|      Laptop|Electronics|75000.0|              130|2025-03-10 09:00:00|\n",
            "|      P002|  Smartphone|Electronics|25000.0|              210|2025-03-10 09:15:00|\n",
            "|      P003|  Headphones|Accessories| 1500.0|              510|2025-03-10 09:30:00|\n",
            "|      P004|       Chair|  Furniture| 4500.0|               90|2025-03-10 09:45:00|\n",
            "|      P005|    Notebook| Stationery|   50.0|             1010|2025-03-10 10:00:00|\n",
            "+----------+------------+-----------+-------+-----------------+-------------------+\n",
            "\n"
          ]
        }
      ]
    },
    {
      "cell_type": "markdown",
      "source": [
        "Using drop() to Remove Columns"
      ],
      "metadata": {
        "id": "j3C-XY0ikC0R"
      }
    },
    {
      "cell_type": "code",
      "source": [
        "df.drop('date_added').show()"
      ],
      "metadata": {
        "colab": {
          "base_uri": "https://localhost:8080/"
        },
        "id": "nrCGQW-tkCeC",
        "outputId": "a57eaada-8230-47ba-ffac-ff19c618bc9b"
      },
      "execution_count": 41,
      "outputs": [
        {
          "output_type": "stream",
          "name": "stdout",
          "text": [
            "+----------+------------+-----------+-------+-----------------+\n",
            "|product_id|product_name|   category|  price|quantity_in_stock|\n",
            "+----------+------------+-----------+-------+-----------------+\n",
            "|      P001|      Laptop|Electronics|75000.0|              120|\n",
            "|      P002|  Smartphone|Electronics|25000.0|              200|\n",
            "|      P003|  Headphones|Accessories| 1500.0|              500|\n",
            "|      P004|       Chair|  Furniture| 4500.0|               80|\n",
            "|      P005|    Notebook| Stationery|   50.0|             1000|\n",
            "+----------+------------+-----------+-------+-----------------+\n",
            "\n"
          ]
        }
      ]
    },
    {
      "cell_type": "markdown",
      "source": [
        "Dropping Multiple Columns"
      ],
      "metadata": {
        "id": "h_Z3t3AWoRhy"
      }
    },
    {
      "cell_type": "code",
      "source": [
        "df.drop('product_name','category').show()"
      ],
      "metadata": {
        "colab": {
          "base_uri": "https://localhost:8080/"
        },
        "id": "AwXhj_GIoSmK",
        "outputId": "2d974c11-bfe9-450e-92ce-d2d63050d706"
      },
      "execution_count": 42,
      "outputs": [
        {
          "output_type": "stream",
          "name": "stdout",
          "text": [
            "+----------+-------+-----------------+-------------------+\n",
            "|product_id|  price|quantity_in_stock|         date_added|\n",
            "+----------+-------+-----------------+-------------------+\n",
            "|      P001|75000.0|              120|2025-03-10 09:00:00|\n",
            "|      P002|25000.0|              200|2025-03-10 09:15:00|\n",
            "|      P003| 1500.0|              500|2025-03-10 09:30:00|\n",
            "|      P004| 4500.0|               80|2025-03-10 09:45:00|\n",
            "|      P005|   50.0|             1000|2025-03-10 10:00:00|\n",
            "+----------+-------+-----------------+-------------------+\n",
            "\n"
          ]
        }
      ]
    },
    {
      "cell_type": "markdown",
      "source": [
        "Combining withColumn() & drop()"
      ],
      "metadata": {
        "id": "RodcNXDSph_N"
      }
    },
    {
      "cell_type": "code",
      "source": [
        "df.withColumn(\"total_value\", col(\"price\") * col(\"quantity_in_stock\")).drop(\"category\").show()\n",
        "\n"
      ],
      "metadata": {
        "colab": {
          "base_uri": "https://localhost:8080/"
        },
        "id": "eKBVv-vhpjIW",
        "outputId": "4d3b467e-8334-435e-9ba1-c8f0b476836b"
      },
      "execution_count": 43,
      "outputs": [
        {
          "output_type": "stream",
          "name": "stdout",
          "text": [
            "+----------+------------+-------+-----------------+-------------------+-----------+\n",
            "|product_id|product_name|  price|quantity_in_stock|         date_added|total_value|\n",
            "+----------+------------+-------+-----------------+-------------------+-----------+\n",
            "|      P001|      Laptop|75000.0|              120|2025-03-10 09:00:00|  9000000.0|\n",
            "|      P002|  Smartphone|25000.0|              200|2025-03-10 09:15:00|  5000000.0|\n",
            "|      P003|  Headphones| 1500.0|              500|2025-03-10 09:30:00|   750000.0|\n",
            "|      P004|       Chair| 4500.0|               80|2025-03-10 09:45:00|   360000.0|\n",
            "|      P005|    Notebook|   50.0|             1000|2025-03-10 10:00:00|    50000.0|\n",
            "+----------+------------+-------+-----------------+-------------------+-----------+\n",
            "\n"
          ]
        }
      ]
    }
  ]
}