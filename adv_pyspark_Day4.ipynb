{
  "nbformat": 4,
  "nbformat_minor": 0,
  "metadata": {
    "colab": {
      "provenance": [],
      "authorship_tag": "ABX9TyPCQzZClCMz4YbMkobO3lLB",
      "include_colab_link": true
    },
    "kernelspec": {
      "name": "python3",
      "display_name": "Python 3"
    },
    "language_info": {
      "name": "python"
    }
  },
  "cells": [
    {
      "cell_type": "markdown",
      "metadata": {
        "id": "view-in-github",
        "colab_type": "text"
      },
      "source": [
        "<a href=\"https://colab.research.google.com/github/chinnuanna123/spark/blob/main/adv_pyspark_Day4.ipynb\" target=\"_parent\"><img src=\"https://colab.research.google.com/assets/colab-badge.svg\" alt=\"Open In Colab\"/></a>"
      ]
    },
    {
      "cell_type": "markdown",
      "source": [
        "Caching and persisting DataFrames for faster processing\n",
        "(use of cache() and persist() methods.)"
      ],
      "metadata": {
        "id": "2AZKBxmL_vh2"
      }
    },
    {
      "cell_type": "code",
      "source": [
        "from pyspark.sql import SparkSession\n",
        "from pyspark import StorageLevel\n",
        "import time"
      ],
      "metadata": {
        "id": "lqhF8kxN_2Zn"
      },
      "execution_count": 19,
      "outputs": []
    },
    {
      "cell_type": "code",
      "source": [
        "spark = SparkSession.builder.appName(\"CachePersistExample\").getOrCreate()"
      ],
      "metadata": {
        "id": "yS7P9hjXALyK"
      },
      "execution_count": 10,
      "outputs": []
    },
    {
      "cell_type": "code",
      "source": [
        "data = [(i, i * 2) for i in range(1, 1000)]  # 1000 rows\n",
        "columns = [\"Number\", \"Double\"]\n",
        "df = spark.createDataFrame(data, columns)"
      ],
      "metadata": {
        "id": "bHLjB6_OATHA"
      },
      "execution_count": 11,
      "outputs": []
    },
    {
      "cell_type": "code",
      "source": [
        "# Without Cache or Persist\n",
        "start_time = time.time()\n",
        "df.filter(df.Number > 500).count()\n",
        "df.filter(df.Number > 500).count()  # Repeated action\n",
        "no_cache_time = time.time() - start_time\n",
        "print(f\"Without Cache/Persist: {no_cache_time:.4f} seconds\")"
      ],
      "metadata": {
        "colab": {
          "base_uri": "https://localhost:8080/"
        },
        "id": "K_BVK5riA2H-",
        "outputId": "d002d0d1-ec08-463d-cfaa-4c48928447dc"
      },
      "execution_count": 12,
      "outputs": [
        {
          "output_type": "stream",
          "name": "stdout",
          "text": [
            "Without Cache/Persist: 2.2735 seconds\n"
          ]
        }
      ]
    },
    {
      "cell_type": "code",
      "source": [
        "# Using Cache\n",
        "df_cached = df.cache()\n",
        "df_cached.count()  # Trigger caching\n",
        "\n",
        "start_time = time.time()\n",
        "df_cached.filter(df_cached.Number > 500).count()\n",
        "df_cached.filter(df_cached.Number > 500).count()  # Repeated action\n",
        "cache_time = time.time() - start_time\n",
        "print(f\"With Cache: {cache_time:.4f} seconds\")\n"
      ],
      "metadata": {
        "colab": {
          "base_uri": "https://localhost:8080/"
        },
        "id": "jvYLbRw3BeKo",
        "outputId": "ee57a788-de2d-4df5-d7b0-04049bdcdc52"
      },
      "execution_count": 14,
      "outputs": [
        {
          "output_type": "stream",
          "name": "stdout",
          "text": [
            "With Cache: 0.9934 seconds\n"
          ]
        }
      ]
    },
    {
      "cell_type": "code",
      "source": [
        "# Using Persist\n",
        "df_persisted = df.persist(StorageLevel.MEMORY_AND_DISK)\n",
        "df_persisted.count()  # Trigger persisting"
      ],
      "metadata": {
        "colab": {
          "base_uri": "https://localhost:8080/"
        },
        "id": "wRFTVnDYCDrQ",
        "outputId": "d1fd4192-5d71-4bf3-8894-12d47739a531"
      },
      "execution_count": 15,
      "outputs": [
        {
          "output_type": "execute_result",
          "data": {
            "text/plain": [
              "999"
            ]
          },
          "metadata": {},
          "execution_count": 15
        }
      ]
    },
    {
      "cell_type": "code",
      "source": [
        "start_time = time.time()\n",
        "df_persisted.filter(df_persisted.Number > 500).count()\n",
        "df_persisted.filter(df_persisted.Number > 500).count()  # Repeated action\n",
        "persist_time = time.time() - start_time\n",
        "print(f\"With Persist (MEMORY_AND_DISK): {persist_time:.4f} seconds\")"
      ],
      "metadata": {
        "colab": {
          "base_uri": "https://localhost:8080/"
        },
        "id": "SciXK-TxCMnf",
        "outputId": "d4f962ee-0c4c-4faa-8f96-67330a4c1612"
      },
      "execution_count": 16,
      "outputs": [
        {
          "output_type": "stream",
          "name": "stdout",
          "text": [
            "With Persist (MEMORY_AND_DISK): 0.9201 seconds\n"
          ]
        }
      ]
    },
    {
      "cell_type": "code",
      "source": [
        "# Unpersist DataFrames to free resources\n",
        "df_cached.unpersist()\n",
        "df_persisted.unpersist()"
      ],
      "metadata": {
        "colab": {
          "base_uri": "https://localhost:8080/"
        },
        "id": "Qh6PbkKmCaaZ",
        "outputId": "d038549b-7ebc-49a0-c7a5-209923c6c6e5"
      },
      "execution_count": 17,
      "outputs": [
        {
          "output_type": "execute_result",
          "data": {
            "text/plain": [
              "DataFrame[Number: bigint, Double: bigint]"
            ]
          },
          "metadata": {},
          "execution_count": 17
        }
      ]
    },
    {
      "cell_type": "code",
      "source": [
        "# Stop Spark Session\n",
        "spark.stop()"
      ],
      "metadata": {
        "id": "UxqC05MTCfuj"
      },
      "execution_count": 20,
      "outputs": []
    },
    {
      "cell_type": "markdown",
      "source": [
        "Repartitioning and Coalescing         "
      ],
      "metadata": {
        "id": "6oQLvFmTHoFR"
      }
    },
    {
      "cell_type": "code",
      "source": [
        "from pyspark.sql import SparkSession"
      ],
      "metadata": {
        "id": "vphHbeMvLwQn"
      },
      "execution_count": 21,
      "outputs": []
    },
    {
      "cell_type": "code",
      "source": [
        "spark = SparkSession.builder.appName(\"RepartitionCoalescingExample\").getOrCreate()"
      ],
      "metadata": {
        "id": "4Kf5AePdLxuh"
      },
      "execution_count": 22,
      "outputs": []
    },
    {
      "cell_type": "code",
      "source": [
        "data = [(i, i * 2) for i in range(1, 1000)]  # 1000 rows\n",
        "columns = [\"Number\", \"Double\"]\n",
        "df = spark.createDataFrame(data, columns)\n",
        "print(f\"Default Number of Partitions: {df.rdd.getNumPartitions()}\") # to check number of partitions\n"
      ],
      "metadata": {
        "colab": {
          "base_uri": "https://localhost:8080/"
        },
        "id": "mwl0PnfuMKpj",
        "outputId": "b9763da4-85d2-48a5-b8df-139f987bb03b"
      },
      "execution_count": 25,
      "outputs": [
        {
          "output_type": "stream",
          "name": "stdout",
          "text": [
            "Default Number of Partitions: 2\n"
          ]
        }
      ]
    },
    {
      "cell_type": "code",
      "source": [
        "# Increase partitions to 4\n",
        "df_repartitioned = df.repartition(4)\n",
        "print(f\"Partitions after Repartitioning: {df_repartitioned.rdd.getNumPartitions()}\")"
      ],
      "metadata": {
        "colab": {
          "base_uri": "https://localhost:8080/"
        },
        "id": "gj_1lbeXNVo6",
        "outputId": "7050b750-5993-48a0-94a9-4d225a71c174"
      },
      "execution_count": 26,
      "outputs": [
        {
          "output_type": "stream",
          "name": "stdout",
          "text": [
            "Partitions after Repartitioning: 4\n"
          ]
        }
      ]
    },
    {
      "cell_type": "code",
      "source": [
        "# Reduce partitions to 2\n",
        "df_coalesced = df.repartition(4).coalesce(2)\n",
        "print(f\"Partitions after Coalescing: {df_coalesced.rdd.getNumPartitions()}\")\n"
      ],
      "metadata": {
        "colab": {
          "base_uri": "https://localhost:8080/"
        },
        "id": "XnLMXm1MOJE4",
        "outputId": "a542762b-bc5a-4bdb-b498-0b8d21449bff"
      },
      "execution_count": 27,
      "outputs": [
        {
          "output_type": "stream",
          "name": "stdout",
          "text": [
            "Partitions after Coalescing: 2\n"
          ]
        }
      ]
    },
    {
      "cell_type": "code",
      "source": [
        "spark.stop()"
      ],
      "metadata": {
        "id": "HwO-FINwPyo8"
      },
      "execution_count": 28,
      "outputs": []
    },
    {
      "cell_type": "markdown",
      "source": [
        "Repartition a DataFrame to improve processing speed."
      ],
      "metadata": {
        "id": "Hn7dw9ASPtEz"
      }
    },
    {
      "cell_type": "code",
      "source": [
        "from pyspark.sql import SparkSession\n",
        "import time"
      ],
      "metadata": {
        "id": "W0R4OwvkP2P7"
      },
      "execution_count": 29,
      "outputs": []
    },
    {
      "cell_type": "code",
      "source": [
        "spark = SparkSession.builder.appName(\"RepartitionExample\").getOrCreate()\n"
      ],
      "metadata": {
        "id": "IlaDyW4XP8tv"
      },
      "execution_count": 30,
      "outputs": []
    },
    {
      "cell_type": "code",
      "source": [
        "data = [(i, f\"Name_{i}\") for i in range(1, 100)]  # 100 million rows\n",
        "columns = [\"ID\", \"Name\"]\n",
        "df = spark.createDataFrame(data, columns)\n",
        "df.show()"
      ],
      "metadata": {
        "colab": {
          "base_uri": "https://localhost:8080/"
        },
        "id": "NkGEkTvoRJyA",
        "outputId": "b52fbfd8-6896-46a3-ae08-02adb8bd6bc8"
      },
      "execution_count": 31,
      "outputs": [
        {
          "output_type": "stream",
          "name": "stdout",
          "text": [
            "+---+-------+\n",
            "| ID|   Name|\n",
            "+---+-------+\n",
            "|  1| Name_1|\n",
            "|  2| Name_2|\n",
            "|  3| Name_3|\n",
            "|  4| Name_4|\n",
            "|  5| Name_5|\n",
            "|  6| Name_6|\n",
            "|  7| Name_7|\n",
            "|  8| Name_8|\n",
            "|  9| Name_9|\n",
            "| 10|Name_10|\n",
            "| 11|Name_11|\n",
            "| 12|Name_12|\n",
            "| 13|Name_13|\n",
            "| 14|Name_14|\n",
            "| 15|Name_15|\n",
            "| 16|Name_16|\n",
            "| 17|Name_17|\n",
            "| 18|Name_18|\n",
            "| 19|Name_19|\n",
            "| 20|Name_20|\n",
            "+---+-------+\n",
            "only showing top 20 rows\n",
            "\n"
          ]
        }
      ]
    },
    {
      "cell_type": "code",
      "source": [
        "print(f\"Default Number of Partitions: {df.rdd.getNumPartitions()}\")\n"
      ],
      "metadata": {
        "colab": {
          "base_uri": "https://localhost:8080/"
        },
        "id": "tW4RDtY3RSzS",
        "outputId": "1dfa0eec-b039-4f6a-ffa0-de7307c1dc2a"
      },
      "execution_count": 32,
      "outputs": [
        {
          "output_type": "stream",
          "name": "stdout",
          "text": [
            "Default Number of Partitions: 2\n"
          ]
        }
      ]
    },
    {
      "cell_type": "code",
      "source": [
        "# Without Repartitioning\n",
        "start_time = time.time()\n",
        "df.filter(df.ID > 50).count()  # Example transformation\n",
        "no_repartition_time = time.time() - start_time\n",
        "print(f\"Processing Time without Repartitioning: {no_repartition_time:.4f} seconds\")"
      ],
      "metadata": {
        "colab": {
          "base_uri": "https://localhost:8080/"
        },
        "id": "7IYSxS37Reed",
        "outputId": "e40c9115-0b77-42c1-fcc2-4a60c2f028ac"
      },
      "execution_count": 33,
      "outputs": [
        {
          "output_type": "stream",
          "name": "stdout",
          "text": [
            "Processing Time without Repartitioning: 0.9038 seconds\n"
          ]
        }
      ]
    },
    {
      "cell_type": "code",
      "source": [
        "df_repartitioned = df.repartition(6)  # Increasing partitions for better parallelism\n",
        "start_time = time.time()\n",
        "df_repartitioned.filter(df_repartitioned.ID > 50).count()\n",
        "repartition_time = time.time() - start_time\n",
        "print(f\"Processing Time with Repartitioning: {repartition_time:.4f} seconds\")"
      ],
      "metadata": {
        "colab": {
          "base_uri": "https://localhost:8080/"
        },
        "id": "aFKZecVTSmYM",
        "outputId": "c1b4bd91-a94a-4d71-83e0-7b3a5469193d"
      },
      "execution_count": 35,
      "outputs": [
        {
          "output_type": "stream",
          "name": "stdout",
          "text": [
            "Processing Time with Repartitioning: 0.8939 seconds\n"
          ]
        }
      ]
    },
    {
      "cell_type": "markdown",
      "source": [
        "Prepare a list of Common optimization techniques"
      ],
      "metadata": {
        "id": "iyma4xHtZt6G"
      }
    },
    {
      "cell_type": "markdown",
      "source": [
        "1. **DataFrame API Optimization**:Prefer using DataFrame API over RDDs for better performance.Avoid using collect() on large datasets.Apply transformations (e.g., select(), filter(), withColumn()) efficiently by reducing shuffles and avoiding unnecessary computations\n",
        "2. **Caching and Persisting**\n",
        "3. ** Partition,Repartition,coelance**\n",
        "4. **Avoid UDFs (Use Built-in Functions)**\n",
        "5. **Avoid Shuffles**:join(), distinct(), groupBy(), repartition()Use Broadcast Joins or Skew Join Optimization when appropriate.\n",
        "6. **Enable Adaptive Query Execution**:Dynamically optimizes query plans based on runtime statistics.\n",
        "spark.conf.set(\"spark.sql.adaptive.enabled\", \"true\")\n",
        "7. **Columnar Storage Format**:Save DataFrames as Parquet or ORC files instead of CSV or JSON.\n",
        "\n"
      ],
      "metadata": {
        "id": "0RdVKmVcbE5j"
      }
    }
  ]
}