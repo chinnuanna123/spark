{
  "nbformat": 4,
  "nbformat_minor": 0,
  "metadata": {
    "colab": {
      "provenance": [],
      "authorship_tag": "ABX9TyNDqqvM3e5xUgU8IGTIoEej",
      "include_colab_link": true
    },
    "kernelspec": {
      "name": "python3",
      "display_name": "Python 3"
    },
    "language_info": {
      "name": "python"
    }
  },
  "cells": [
    {
      "cell_type": "markdown",
      "metadata": {
        "id": "view-in-github",
        "colab_type": "text"
      },
      "source": [
        "<a href=\"https://colab.research.google.com/github/chinnuanna123/spark/blob/main/tungsten_project.ipynb\" target=\"_parent\"><img src=\"https://colab.research.google.com/assets/colab-badge.svg\" alt=\"Open In Colab\"/></a>"
      ]
    },
    {
      "cell_type": "markdown",
      "source": [
        "Tungsten Project"
      ],
      "metadata": {
        "id": "gxCJsJ2T0WS3"
      }
    },
    {
      "cell_type": "code",
      "execution_count": 6,
      "metadata": {
        "id": "7NlrVE10jlmI",
        "colab": {
          "base_uri": "https://localhost:8080/"
        },
        "outputId": "f41b71b8-74eb-4bb5-fdd4-8e507f8f17d5"
      },
      "outputs": [
        {
          "output_type": "stream",
          "name": "stdout",
          "text": [
            "+------+-------+----------+------+\n",
            "|emp_id|   name|department|salary|\n",
            "+------+-------+----------+------+\n",
            "|   101|  Alice|        HR| 60000|\n",
            "|   102|    Bob|   Finance| 75000|\n",
            "|   103|Charlie|        IT| 90000|\n",
            "|   104|  David|        HR| 65000|\n",
            "|   105|    Eve|        IT| 95000|\n",
            "+------+-------+----------+------+\n",
            "\n"
          ]
        }
      ],
      "source": [
        "from pyspark.sql import SparkSession\n",
        "from pyspark.sql.functions import avg\n",
        "\n",
        "# Initialize Spark Session\n",
        "spark = SparkSession.builder.appName(\"TungstenPlans\").getOrCreate()\n",
        "\n",
        "# Sample Employee Data\n",
        "employees = [\n",
        "    (101, \"Alice\", \"HR\", 60000),\n",
        "    (102, \"Bob\", \"Finance\", 75000),\n",
        "    (103, \"Charlie\", \"IT\", 90000),\n",
        "    (104, \"David\", \"HR\", 65000),\n",
        "    (105, \"Eve\", \"IT\", 95000)\n",
        "]\n",
        "\n",
        "# Define schema (column names)\n",
        "columns = [\"emp_id\", \"name\", \"department\", \"salary\"]\n",
        "\n",
        "# Create DataFrame\n",
        "df = spark.createDataFrame(employees, columns)\n",
        "\n",
        "# Show DataFrame\n",
        "df.show()\n"
      ]
    },
    {
      "cell_type": "markdown",
      "source": [
        "Get the Logical Plan (Optimized Plan)\n",
        "Use .explain() to display how Spark processes queries logically before execution."
      ],
      "metadata": {
        "id": "v1KYftQw0E9Y"
      }
    },
    {
      "cell_type": "code",
      "source": [
        "df.filter(df.salary > 70000).select(\"name\", \"salary\").explain()\n"
      ],
      "metadata": {
        "colab": {
          "base_uri": "https://localhost:8080/"
        },
        "id": "Gr0gwxDN0Mzr",
        "outputId": "c55c7854-fc47-4b49-adef-d59e8a9241f8"
      },
      "execution_count": 2,
      "outputs": [
        {
          "output_type": "stream",
          "name": "stdout",
          "text": [
            "== Physical Plan ==\n",
            "*(1) Project [name#1, salary#3L]\n",
            "+- *(1) Filter (isnotnull(salary#3L) AND (salary#3L > 70000))\n",
            "   +- *(1) Scan ExistingRDD[emp_id#0L,name#1,department#2,salary#3L]\n",
            "\n",
            "\n"
          ]
        }
      ]
    },
    {
      "cell_type": "markdown",
      "source": [
        "Get the Physical Plan (Execution Plan)\n",
        "To see the Tungsten-optimized Physical Plan, use .explain(True)"
      ],
      "metadata": {
        "id": "aUod1-Qb1Zv5"
      }
    },
    {
      "cell_type": "code",
      "source": [
        "df.filter(df.salary > 70000).select(\"name\", \"salary\").explain(True)\n"
      ],
      "metadata": {
        "colab": {
          "base_uri": "https://localhost:8080/"
        },
        "id": "qVb2SO5r1cA2",
        "outputId": "2c99a457-60b8-4671-af66-286b1546ff61"
      },
      "execution_count": 3,
      "outputs": [
        {
          "output_type": "stream",
          "name": "stdout",
          "text": [
            "== Parsed Logical Plan ==\n",
            "'Project ['name, 'salary]\n",
            "+- Filter (salary#3L > cast(70000 as bigint))\n",
            "   +- LogicalRDD [emp_id#0L, name#1, department#2, salary#3L], false\n",
            "\n",
            "== Analyzed Logical Plan ==\n",
            "name: string, salary: bigint\n",
            "Project [name#1, salary#3L]\n",
            "+- Filter (salary#3L > cast(70000 as bigint))\n",
            "   +- LogicalRDD [emp_id#0L, name#1, department#2, salary#3L], false\n",
            "\n",
            "== Optimized Logical Plan ==\n",
            "Project [name#1, salary#3L]\n",
            "+- Filter (isnotnull(salary#3L) AND (salary#3L > 70000))\n",
            "   +- LogicalRDD [emp_id#0L, name#1, department#2, salary#3L], false\n",
            "\n",
            "== Physical Plan ==\n",
            "*(1) Project [name#1, salary#3L]\n",
            "+- *(1) Filter (isnotnull(salary#3L) AND (salary#3L > 70000))\n",
            "   +- *(1) Scan ExistingRDD[emp_id#0L,name#1,department#2,salary#3L]\n",
            "\n"
          ]
        }
      ]
    },
    {
      "cell_type": "markdown",
      "source": [
        "Checking Tungsten Optimizations\n",
        "To verify if Whole-Stage Code Generation (WSCG) is enabled:"
      ],
      "metadata": {
        "id": "ZYRKLfKW2JvH"
      }
    },
    {
      "cell_type": "code",
      "source": [
        "print(spark.conf.get(\"spark.sql.codegen.wholeStage\"))  # Should return \"true\"\n"
      ],
      "metadata": {
        "colab": {
          "base_uri": "https://localhost:8080/"
        },
        "id": "R8JYMH9M2Lgw",
        "outputId": "d7ea8521-de9f-4978-c563-9e8c0d5faaaf"
      },
      "execution_count": 4,
      "outputs": [
        {
          "output_type": "stream",
          "name": "stdout",
          "text": [
            "true\n"
          ]
        }
      ]
    },
    {
      "cell_type": "code",
      "source": [
        "df.orderBy(df.salary.desc()).show()\n"
      ],
      "metadata": {
        "colab": {
          "base_uri": "https://localhost:8080/"
        },
        "id": "TQKeZf8p9oEK",
        "outputId": "c4ec6449-1afa-4ed2-869b-1f39d7fc35bc"
      },
      "execution_count": 5,
      "outputs": [
        {
          "output_type": "stream",
          "name": "stdout",
          "text": [
            "+------+-------+----------+------+\n",
            "|emp_id|   name|department|salary|\n",
            "+------+-------+----------+------+\n",
            "|   105|    Eve|        IT| 95000|\n",
            "|   103|Charlie|        IT| 90000|\n",
            "|   102|    Bob|   Finance| 75000|\n",
            "|   104|  David|        HR| 65000|\n",
            "|   101|  Alice|        HR| 60000|\n",
            "+------+-------+----------+------+\n",
            "\n"
          ]
        }
      ]
    },
    {
      "cell_type": "code",
      "source": [
        "df.groupBy(\"department\").agg(avg(\"salary\").alias(\"avg_salary\")).show()"
      ],
      "metadata": {
        "colab": {
          "base_uri": "https://localhost:8080/"
        },
        "id": "LN4dPUTz937D",
        "outputId": "a85475a8-cb18-42de-89f2-5d67beaffefc"
      },
      "execution_count": 7,
      "outputs": [
        {
          "output_type": "stream",
          "name": "stdout",
          "text": [
            "+----------+----------+\n",
            "|department|avg_salary|\n",
            "+----------+----------+\n",
            "|        HR|   62500.0|\n",
            "|   Finance|   75000.0|\n",
            "|        IT|   92500.0|\n",
            "+----------+----------+\n",
            "\n"
          ]
        }
      ]
    },
    {
      "cell_type": "code",
      "source": [
        "df.groupBy(\"department\").agg(avg(\"salary\").alias(\"avg_salary\")).explain(mode=\"extended\")"
      ],
      "metadata": {
        "colab": {
          "base_uri": "https://localhost:8080/"
        },
        "id": "SrwlUgBB-QiR",
        "outputId": "4ef9667e-d6e9-41de-b343-dc6c3504aea0"
      },
      "execution_count": 8,
      "outputs": [
        {
          "output_type": "stream",
          "name": "stdout",
          "text": [
            "== Parsed Logical Plan ==\n",
            "'Aggregate ['department], ['department, avg('salary) AS avg_salary#99]\n",
            "+- LogicalRDD [emp_id#46L, name#47, department#48, salary#49L], false\n",
            "\n",
            "== Analyzed Logical Plan ==\n",
            "department: string, avg_salary: double\n",
            "Aggregate [department#48], [department#48, avg(salary#49L) AS avg_salary#99]\n",
            "+- LogicalRDD [emp_id#46L, name#47, department#48, salary#49L], false\n",
            "\n",
            "== Optimized Logical Plan ==\n",
            "Aggregate [department#48], [department#48, avg(salary#49L) AS avg_salary#99]\n",
            "+- Project [department#48, salary#49L]\n",
            "   +- LogicalRDD [emp_id#46L, name#47, department#48, salary#49L], false\n",
            "\n",
            "== Physical Plan ==\n",
            "AdaptiveSparkPlan isFinalPlan=false\n",
            "+- HashAggregate(keys=[department#48], functions=[avg(salary#49L)], output=[department#48, avg_salary#99])\n",
            "   +- Exchange hashpartitioning(department#48, 200), ENSURE_REQUIREMENTS, [plan_id=113]\n",
            "      +- HashAggregate(keys=[department#48], functions=[partial_avg(salary#49L)], output=[department#48, sum#104, count#105L])\n",
            "         +- Project [department#48, salary#49L]\n",
            "            +- Scan ExistingRDD[emp_id#46L,name#47,department#48,salary#49L]\n",
            "\n"
          ]
        }
      ]
    },
    {
      "cell_type": "markdown",
      "source": [
        "Two DataFrames in PySpark"
      ],
      "metadata": {
        "id": "hXqoVm9yAlzZ"
      }
    },
    {
      "cell_type": "code",
      "source": [
        "# Department Data\n",
        "department_data = [\n",
        "    (\"HR\", \"New York\"),\n",
        "    (\"Finance\", \"London\"),\n",
        "    (\"IT\", \"San Francisco\"),\n",
        "    (\"Marketing\", \"Berlin\")\n",
        "]\n",
        "\n",
        "# Define schema (column names)\n",
        "department_columns = [\"department\", \"location\"]\n",
        "\n",
        "# Create Department DataFrame\n",
        "df_departments = spark.createDataFrame(department_data, department_columns)\n",
        "\n",
        "# Show Department DataFrame\n",
        "df_departments.show()\n"
      ],
      "metadata": {
        "colab": {
          "base_uri": "https://localhost:8080/"
        },
        "id": "CN3B4aGrAaCn",
        "outputId": "ca312e11-48ad-4c2c-9be8-bc7ad6443379"
      },
      "execution_count": 9,
      "outputs": [
        {
          "output_type": "stream",
          "name": "stdout",
          "text": [
            "+----------+-------------+\n",
            "|department|     location|\n",
            "+----------+-------------+\n",
            "|        HR|     New York|\n",
            "|   Finance|       London|\n",
            "|        IT|San Francisco|\n",
            "| Marketing|       Berlin|\n",
            "+----------+-------------+\n",
            "\n"
          ]
        }
      ]
    },
    {
      "cell_type": "code",
      "source": [],
      "metadata": {
        "id": "Dogm-ujgBH5b"
      },
      "execution_count": null,
      "outputs": []
    }
  ]
}