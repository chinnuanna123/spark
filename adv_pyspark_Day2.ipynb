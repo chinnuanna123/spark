{
  "nbformat": 4,
  "nbformat_minor": 0,
  "metadata": {
    "colab": {
      "provenance": [],
      "authorship_tag": "ABX9TyPymBNwJIHMFRR80vBoX+dk",
      "include_colab_link": true
    },
    "kernelspec": {
      "name": "python3",
      "display_name": "Python 3"
    },
    "language_info": {
      "name": "python"
    }
  },
  "cells": [
    {
      "cell_type": "markdown",
      "metadata": {
        "id": "view-in-github",
        "colab_type": "text"
      },
      "source": [
        "<a href=\"https://colab.research.google.com/github/chinnuanna123/spark/blob/main/adv_pyspark_Day2.ipynb\" target=\"_parent\"><img src=\"https://colab.research.google.com/assets/colab-badge.svg\" alt=\"Open In Colab\"/></a>"
      ]
    },
    {
      "cell_type": "code",
      "source": [
        "!pip install pyspark"
      ],
      "metadata": {
        "colab": {
          "base_uri": "https://localhost:8080/"
        },
        "id": "d59VrD5tgBlO",
        "outputId": "2ae3cafa-ee46-43a7-f6be-f6f23300b32f"
      },
      "execution_count": 4,
      "outputs": [
        {
          "output_type": "stream",
          "name": "stdout",
          "text": [
            "Requirement already satisfied: pyspark in /usr/local/lib/python3.11/dist-packages (3.5.5)\n",
            "Requirement already satisfied: py4j==0.10.9.7 in /usr/local/lib/python3.11/dist-packages (from pyspark) (0.10.9.7)\n"
          ]
        }
      ]
    },
    {
      "cell_type": "code",
      "execution_count": 89,
      "metadata": {
        "id": "gysfAWuhYIrW"
      },
      "outputs": [],
      "source": [
        "from pyspark.sql import SparkSession\n",
        "from pyspark.sql.functions import col,when,lit\n",
        "from pyspark.sql import functions as F"
      ]
    },
    {
      "cell_type": "code",
      "source": [
        "spark=SparkSession.builder.appName('examples').getOrCreate()"
      ],
      "metadata": {
        "id": "P6g0FNBVgM1l"
      },
      "execution_count": 16,
      "outputs": []
    },
    {
      "cell_type": "code",
      "source": [
        "df=spark.read.csv('employees.csv',header=True,inferSchema=True)"
      ],
      "metadata": {
        "id": "Dpt3nRrCfeds"
      },
      "execution_count": 20,
      "outputs": []
    },
    {
      "cell_type": "code",
      "source": [
        "df.show()"
      ],
      "metadata": {
        "colab": {
          "base_uri": "https://localhost:8080/"
        },
        "id": "inM4oSTEhASl",
        "outputId": "1c7333f1-43c2-4092-cac9-ac761754d638"
      },
      "execution_count": 10,
      "outputs": [
        {
          "output_type": "stream",
          "name": "stdout",
          "text": [
            "+-----------+----------+---------+--------+------------+---------+----------+------+--------------+----------+-------------+\n",
            "|EMPLOYEE_ID|FIRST_NAME|LAST_NAME|   EMAIL|PHONE_NUMBER|HIRE_DATE|    JOB_ID|SALARY|COMMISSION_PCT|MANAGER_ID|DEPARTMENT_ID|\n",
            "+-----------+----------+---------+--------+------------+---------+----------+------+--------------+----------+-------------+\n",
            "|        198|    Donald| OConnell|DOCONNEL|650.507.9833|21-JUN-07|  SH_CLERK|  2600|            - |       124|           50|\n",
            "|        199|   Douglas|    Grant|  DGRANT|650.507.9844|13-JAN-08|  SH_CLERK|  2600|            - |       124|           50|\n",
            "|        200|  Jennifer|   Whalen| JWHALEN|515.123.4444|17-SEP-03|   AD_ASST|  4400|            - |       101|           10|\n",
            "|        201|   Michael|Hartstein|MHARTSTE|515.123.5555|17-FEB-04|    MK_MAN| 13000|            - |       100|           20|\n",
            "|        202|       Pat|      Fay|    PFAY|603.123.6666|17-AUG-05|    MK_REP|  6000|            - |       201|           20|\n",
            "|        203|     Susan|   Mavris| SMAVRIS|515.123.7777|07-JUN-02|    HR_REP|  6500|            - |       101|           40|\n",
            "|        204|   Hermann|     Baer|   HBAER|515.123.8888|07-JUN-02|    PR_REP| 10000|            - |       101|           70|\n",
            "|        205|   Shelley|  Higgins|SHIGGINS|515.123.8080|07-JUN-02|    AC_MGR| 12008|            - |       101|          110|\n",
            "|        206|   William|    Gietz|  WGIETZ|515.123.8181|07-JUN-02|AC_ACCOUNT|  8300|            - |       205|          110|\n",
            "|        100|    Steven|     King|   SKING|515.123.4567|17-JUN-03|   AD_PRES| 24000|            - |        - |           90|\n",
            "|        101|     Neena|  Kochhar|NKOCHHAR|515.123.4568|21-SEP-05|     AD_VP| 17000|            - |       100|           90|\n",
            "|        102|       Lex|  De Haan| LDEHAAN|515.123.4569|13-JAN-01|     AD_VP| 17000|            - |       100|           90|\n",
            "|        103| Alexander|   Hunold| AHUNOLD|590.423.4567|03-JAN-06|   IT_PROG|  9000|            - |       102|           60|\n",
            "|        104|     Bruce|    Ernst|  BERNST|590.423.4568|21-MAY-07|   IT_PROG|  6000|            - |       103|           60|\n",
            "|        105|     David|   Austin| DAUSTIN|590.423.4569|25-JUN-05|   IT_PROG|  4800|            - |       103|           60|\n",
            "|        106|     Valli|Pataballa|VPATABAL|590.423.4560|05-FEB-06|   IT_PROG|  4800|            - |       103|           60|\n",
            "|        107|     Diana|  Lorentz|DLORENTZ|590.423.5567|07-FEB-07|   IT_PROG|  4200|            - |       103|           60|\n",
            "|        108|     Nancy|Greenberg|NGREENBE|515.124.4569|17-AUG-02|    FI_MGR| 12008|            - |       101|          100|\n",
            "|        109|    Daniel|   Faviet| DFAVIET|515.124.4169|16-AUG-02|FI_ACCOUNT|  9000|            - |       108|          100|\n",
            "|        110|      John|     Chen|   JCHEN|515.124.4269|28-SEP-05|FI_ACCOUNT|  8200|            - |       108|          100|\n",
            "+-----------+----------+---------+--------+------------+---------+----------+------+--------------+----------+-------------+\n",
            "only showing top 20 rows\n",
            "\n"
          ]
        }
      ]
    },
    {
      "cell_type": "markdown",
      "source": [
        "Using groupBy() with Count Aggregations"
      ],
      "metadata": {
        "id": "nHypjv_mhU1t"
      }
    },
    {
      "cell_type": "code",
      "source": [
        "df.groupBy('JOB_ID').count().show()"
      ],
      "metadata": {
        "colab": {
          "base_uri": "https://localhost:8080/"
        },
        "id": "HQkUKQCXhWrO",
        "outputId": "1e415769-c882-4ed6-8e44-345063ec7a8f"
      },
      "execution_count": 12,
      "outputs": [
        {
          "output_type": "stream",
          "name": "stdout",
          "text": [
            "+----------+-----+\n",
            "|    JOB_ID|count|\n",
            "+----------+-----+\n",
            "|FI_ACCOUNT|    5|\n",
            "|    MK_MAN|    1|\n",
            "|   IT_PROG|    5|\n",
            "|    FI_MGR|    1|\n",
            "|AC_ACCOUNT|    1|\n",
            "|    HR_REP|    1|\n",
            "|  PU_CLERK|    5|\n",
            "|    AC_MGR|    1|\n",
            "|    PR_REP|    1|\n",
            "|    ST_MAN|    5|\n",
            "|    MK_REP|    1|\n",
            "|    PU_MAN|    1|\n",
            "|  SH_CLERK|    2|\n",
            "|   AD_PRES|    1|\n",
            "|   AD_ASST|    1|\n",
            "|  ST_CLERK|   16|\n",
            "|     AD_VP|    2|\n",
            "+----------+-----+\n",
            "\n"
          ]
        }
      ]
    },
    {
      "cell_type": "markdown",
      "source": [
        "Sum Aggregation"
      ],
      "metadata": {
        "id": "yjFQvPXDiHJ6"
      }
    },
    {
      "cell_type": "code",
      "source": [
        "df.groupBy('JOB_ID').sum('SALARY').show()"
      ],
      "metadata": {
        "colab": {
          "base_uri": "https://localhost:8080/"
        },
        "id": "sGaU_OejiIKh",
        "outputId": "6bb9ff25-f735-4a71-c74f-cb24d4ebce17"
      },
      "execution_count": 21,
      "outputs": [
        {
          "output_type": "stream",
          "name": "stdout",
          "text": [
            "+----------+-----------+\n",
            "|    JOB_ID|sum(SALARY)|\n",
            "+----------+-----------+\n",
            "|FI_ACCOUNT|      39600|\n",
            "|    MK_MAN|      13000|\n",
            "|   IT_PROG|      28800|\n",
            "|    FI_MGR|      12008|\n",
            "|AC_ACCOUNT|       8300|\n",
            "|    HR_REP|       6500|\n",
            "|  PU_CLERK|      13900|\n",
            "|    AC_MGR|      12008|\n",
            "|    PR_REP|      10000|\n",
            "|    ST_MAN|      36400|\n",
            "|    MK_REP|       6000|\n",
            "|    PU_MAN|      11000|\n",
            "|  SH_CLERK|       5200|\n",
            "|   AD_PRES|      24000|\n",
            "|   AD_ASST|       4400|\n",
            "|  ST_CLERK|      44000|\n",
            "|     AD_VP|      34000|\n",
            "+----------+-----------+\n",
            "\n"
          ]
        }
      ]
    },
    {
      "cell_type": "markdown",
      "source": [
        "Average Aggregation"
      ],
      "metadata": {
        "id": "ggavCpfHkOCD"
      }
    },
    {
      "cell_type": "code",
      "source": [
        "df.groupBy('JOB_ID').avg('SALARY').show()\n"
      ],
      "metadata": {
        "colab": {
          "base_uri": "https://localhost:8080/"
        },
        "id": "cA7KoaufkO5D",
        "outputId": "07fc5be3-a132-4b51-863a-267d901ebed2"
      },
      "execution_count": 22,
      "outputs": [
        {
          "output_type": "stream",
          "name": "stdout",
          "text": [
            "+----------+-----------+\n",
            "|    JOB_ID|avg(SALARY)|\n",
            "+----------+-----------+\n",
            "|FI_ACCOUNT|     7920.0|\n",
            "|    MK_MAN|    13000.0|\n",
            "|   IT_PROG|     5760.0|\n",
            "|    FI_MGR|    12008.0|\n",
            "|AC_ACCOUNT|     8300.0|\n",
            "|    HR_REP|     6500.0|\n",
            "|  PU_CLERK|     2780.0|\n",
            "|    AC_MGR|    12008.0|\n",
            "|    PR_REP|    10000.0|\n",
            "|    ST_MAN|     7280.0|\n",
            "|    MK_REP|     6000.0|\n",
            "|    PU_MAN|    11000.0|\n",
            "|  SH_CLERK|     2600.0|\n",
            "|   AD_PRES|    24000.0|\n",
            "|   AD_ASST|     4400.0|\n",
            "|  ST_CLERK|     2750.0|\n",
            "|     AD_VP|    17000.0|\n",
            "+----------+-----------+\n",
            "\n"
          ]
        }
      ]
    },
    {
      "cell_type": "markdown",
      "source": [
        "minimum Aggregation"
      ],
      "metadata": {
        "id": "ciyJ2DYvlsEm"
      }
    },
    {
      "cell_type": "code",
      "source": [
        "df.groupBy('JOB_ID').min('SALARY').show()"
      ],
      "metadata": {
        "colab": {
          "base_uri": "https://localhost:8080/"
        },
        "id": "Ikediv1nkbZj",
        "outputId": "d0b3d41f-c425-4300-a48c-7c0341dc2b66"
      },
      "execution_count": 23,
      "outputs": [
        {
          "output_type": "stream",
          "name": "stdout",
          "text": [
            "+----------+-----------+\n",
            "|    JOB_ID|min(SALARY)|\n",
            "+----------+-----------+\n",
            "|FI_ACCOUNT|       6900|\n",
            "|    MK_MAN|      13000|\n",
            "|   IT_PROG|       4200|\n",
            "|    FI_MGR|      12008|\n",
            "|AC_ACCOUNT|       8300|\n",
            "|    HR_REP|       6500|\n",
            "|  PU_CLERK|       2500|\n",
            "|    AC_MGR|      12008|\n",
            "|    PR_REP|      10000|\n",
            "|    ST_MAN|       5800|\n",
            "|    MK_REP|       6000|\n",
            "|    PU_MAN|      11000|\n",
            "|  SH_CLERK|       2600|\n",
            "|   AD_PRES|      24000|\n",
            "|   AD_ASST|       4400|\n",
            "|  ST_CLERK|       2100|\n",
            "|     AD_VP|      17000|\n",
            "+----------+-----------+\n",
            "\n"
          ]
        }
      ]
    },
    {
      "cell_type": "markdown",
      "source": [
        "Maximum Aggregation"
      ],
      "metadata": {
        "id": "Or3vTTBhlxxI"
      }
    },
    {
      "cell_type": "code",
      "source": [
        "df.groupBy('JOB_ID').max('SALARY').show()"
      ],
      "metadata": {
        "colab": {
          "base_uri": "https://localhost:8080/"
        },
        "id": "4rrZbjqQl1E-",
        "outputId": "e47b614a-0665-4fc4-d0d9-1ee10b724c96"
      },
      "execution_count": 24,
      "outputs": [
        {
          "output_type": "stream",
          "name": "stdout",
          "text": [
            "+----------+-----------+\n",
            "|    JOB_ID|max(SALARY)|\n",
            "+----------+-----------+\n",
            "|FI_ACCOUNT|       9000|\n",
            "|    MK_MAN|      13000|\n",
            "|   IT_PROG|       9000|\n",
            "|    FI_MGR|      12008|\n",
            "|AC_ACCOUNT|       8300|\n",
            "|    HR_REP|       6500|\n",
            "|  PU_CLERK|       3100|\n",
            "|    AC_MGR|      12008|\n",
            "|    PR_REP|      10000|\n",
            "|    ST_MAN|       8200|\n",
            "|    MK_REP|       6000|\n",
            "|    PU_MAN|      11000|\n",
            "|  SH_CLERK|       2600|\n",
            "|   AD_PRES|      24000|\n",
            "|   AD_ASST|       4400|\n",
            "|  ST_CLERK|       3600|\n",
            "|     AD_VP|      17000|\n",
            "+----------+-----------+\n",
            "\n"
          ]
        }
      ]
    },
    {
      "cell_type": "markdown",
      "source": [
        "Multiple Aggregations"
      ],
      "metadata": {
        "id": "Jn0yNsxJm1Bg"
      }
    },
    {
      "cell_type": "code",
      "source": [
        "df.groupBy('JOB_ID').agg(F.sum('SALARY').alias('TOTAL_SALARY'),F.avg('SALARY').alias('AVG_SALARY'),F.count('JOB_ID').alias('Employee_Count')).show()"
      ],
      "metadata": {
        "colab": {
          "base_uri": "https://localhost:8080/"
        },
        "id": "kqMA5S4om15g",
        "outputId": "649af76c-8901-43ec-cb69-f0f6d59d0918"
      },
      "execution_count": 31,
      "outputs": [
        {
          "output_type": "stream",
          "name": "stdout",
          "text": [
            "+----------+------------+----------+--------------+\n",
            "|    JOB_ID|TOTAL_SALARY|AVG_SALARY|Employee_Count|\n",
            "+----------+------------+----------+--------------+\n",
            "|FI_ACCOUNT|       39600|    7920.0|             5|\n",
            "|    MK_MAN|       13000|   13000.0|             1|\n",
            "|   IT_PROG|       28800|    5760.0|             5|\n",
            "|    FI_MGR|       12008|   12008.0|             1|\n",
            "|AC_ACCOUNT|        8300|    8300.0|             1|\n",
            "|    HR_REP|        6500|    6500.0|             1|\n",
            "|  PU_CLERK|       13900|    2780.0|             5|\n",
            "|    AC_MGR|       12008|   12008.0|             1|\n",
            "|    PR_REP|       10000|   10000.0|             1|\n",
            "|    ST_MAN|       36400|    7280.0|             5|\n",
            "|    MK_REP|        6000|    6000.0|             1|\n",
            "|    PU_MAN|       11000|   11000.0|             1|\n",
            "|  SH_CLERK|        5200|    2600.0|             2|\n",
            "|   AD_PRES|       24000|   24000.0|             1|\n",
            "|   AD_ASST|        4400|    4400.0|             1|\n",
            "|  ST_CLERK|       44000|    2750.0|            16|\n",
            "|     AD_VP|       34000|   17000.0|             2|\n",
            "+----------+------------+----------+--------------+\n",
            "\n"
          ]
        }
      ]
    },
    {
      "cell_type": "markdown",
      "source": [
        "Grouping by Multiple Columns\n"
      ],
      "metadata": {
        "id": "uuCK02l0q2xr"
      }
    },
    {
      "cell_type": "code",
      "source": [
        "df.groupBy('JOB_ID','FIRST_NAME').sum('SALARY').show()"
      ],
      "metadata": {
        "colab": {
          "base_uri": "https://localhost:8080/"
        },
        "id": "3kTAzH_Jq4wQ",
        "outputId": "1c7d5dbe-6a64-4349-d640-cb1eea296cc5"
      },
      "execution_count": 32,
      "outputs": [
        {
          "output_type": "stream",
          "name": "stdout",
          "text": [
            "+----------+-----------+-----------+\n",
            "|    JOB_ID| FIRST_NAME|sum(SALARY)|\n",
            "+----------+-----------+-----------+\n",
            "|  ST_CLERK|      Jason|       3300|\n",
            "|FI_ACCOUNT|Jose Manuel|       7800|\n",
            "|  ST_CLERK|      Irene|       2700|\n",
            "|   IT_PROG|      Valli|       4800|\n",
            "|  PU_CLERK|  Alexander|       3100|\n",
            "|   AD_PRES|     Steven|      24000|\n",
            "|  ST_CLERK|      James|       4900|\n",
            "|    MK_REP|        Pat|       6000|\n",
            "|    ST_MAN|       Adam|       8200|\n",
            "|    PR_REP|    Hermann|      10000|\n",
            "|  PU_CLERK|      Karen|       2500|\n",
            "|  ST_CLERK|    Stephen|       3200|\n",
            "|    AC_MGR|    Shelley|      12008|\n",
            "|FI_ACCOUNT|     Ismael|       7700|\n",
            "|FI_ACCOUNT|       Luis|       6900|\n",
            "|  ST_CLERK|      Julia|       3200|\n",
            "|     AD_VP|      Neena|      17000|\n",
            "|FI_ACCOUNT|     Daniel|       9000|\n",
            "|  ST_CLERK|         TJ|       2100|\n",
            "|  ST_CLERK|       John|       2700|\n",
            "+----------+-----------+-----------+\n",
            "only showing top 20 rows\n",
            "\n"
          ]
        }
      ]
    },
    {
      "cell_type": "markdown",
      "source": [
        "OrderBy, Sort"
      ],
      "metadata": {
        "id": "SA1bwM-s70Uu"
      }
    },
    {
      "cell_type": "code",
      "source": [
        "df.orderBy('SALARY').show()"
      ],
      "metadata": {
        "colab": {
          "base_uri": "https://localhost:8080/"
        },
        "id": "HCFLMC9371rJ",
        "outputId": "271f28c0-11cb-4468-900d-95fbb8266e2e"
      },
      "execution_count": 33,
      "outputs": [
        {
          "output_type": "stream",
          "name": "stdout",
          "text": [
            "+-----------+----------+-----------+--------+------------+---------+--------+------+--------------+----------+-------------+\n",
            "|EMPLOYEE_ID|FIRST_NAME|  LAST_NAME|   EMAIL|PHONE_NUMBER|HIRE_DATE|  JOB_ID|SALARY|COMMISSION_PCT|MANAGER_ID|DEPARTMENT_ID|\n",
            "+-----------+----------+-----------+--------+------------+---------+--------+------+--------------+----------+-------------+\n",
            "|        132|        TJ|      Olson| TJOLSON|650.124.8234|10-APR-07|ST_CLERK|  2100|            - |       121|           50|\n",
            "|        128|    Steven|     Markle| SMARKLE|650.124.1434|08-MAR-08|ST_CLERK|  2200|            - |       120|           50|\n",
            "|        136|     Hazel| Philtanker|HPHILTAN|650.127.1634|06-FEB-08|ST_CLERK|  2200|            - |       122|           50|\n",
            "|        127|     James|     Landry| JLANDRY|650.124.1334|14-JAN-07|ST_CLERK|  2400|            - |       120|           50|\n",
            "|        135|        Ki|        Gee|    KGEE|650.127.1734|12-DEC-07|ST_CLERK|  2400|            - |       122|           50|\n",
            "|        131|     James|     Marlow| JAMRLOW|650.124.7234|16-FEB-05|ST_CLERK|  2500|            - |       121|           50|\n",
            "|        119|     Karen| Colmenares|KCOLMENA|515.127.4566|10-AUG-07|PU_CLERK|  2500|            - |       114|           30|\n",
            "|        140|    Joshua|      Patel|  JPATEL|650.121.1834|06-APR-06|ST_CLERK|  2500|            - |       123|           50|\n",
            "|        198|    Donald|   OConnell|DOCONNEL|650.507.9833|21-JUN-07|SH_CLERK|  2600|            - |       124|           50|\n",
            "|        199|   Douglas|      Grant|  DGRANT|650.507.9844|13-JAN-08|SH_CLERK|  2600|            - |       124|           50|\n",
            "|        118|       Guy|     Himuro| GHIMURO|515.127.4565|15-NOV-06|PU_CLERK|  2600|            - |       114|           30|\n",
            "|        126|     Irene|Mikkilineni|IMIKKILI|650.124.1224|28-SEP-06|ST_CLERK|  2700|            - |       120|           50|\n",
            "|        139|      John|        Seo|    JSEO|650.121.2019|12-FEB-06|ST_CLERK|  2700|            - |       123|           50|\n",
            "|        117|     Sigal|     Tobias| STOBIAS|515.127.4564|24-JUL-05|PU_CLERK|  2800|            - |       114|           30|\n",
            "|        130|     Mozhe|   Atkinson|MATKINSO|650.124.6234|30-OCT-05|ST_CLERK|  2800|            - |       121|           50|\n",
            "|        116|    Shelli|      Baida|  SBAIDA|515.127.4563|24-DEC-05|PU_CLERK|  2900|            - |       114|           30|\n",
            "|        134|   Michael|     Rogers| MROGERS|650.127.1834|26-AUG-06|ST_CLERK|  2900|            - |       122|           50|\n",
            "|        115| Alexander|       Khoo|   AKHOO|515.127.4562|18-MAY-03|PU_CLERK|  3100|            - |       114|           30|\n",
            "|        125|     Julia|      Nayer|  JNAYER|650.124.1214|16-JUL-05|ST_CLERK|  3200|            - |       120|           50|\n",
            "|        138|   Stephen|     Stiles| SSTILES|650.121.2034|26-OCT-05|ST_CLERK|  3200|            - |       123|           50|\n",
            "+-----------+----------+-----------+--------+------------+---------+--------+------+--------------+----------+-------------+\n",
            "only showing top 20 rows\n",
            "\n"
          ]
        }
      ]
    },
    {
      "cell_type": "code",
      "source": [
        "df.orderBy('SALARY').show()"
      ],
      "metadata": {
        "colab": {
          "base_uri": "https://localhost:8080/"
        },
        "id": "jiSx1Xg4CDM_",
        "outputId": "f3dc482f-f142-415d-a035-531d231116f0"
      },
      "execution_count": 45,
      "outputs": [
        {
          "output_type": "stream",
          "name": "stdout",
          "text": [
            "+-----------+----------+-----------+--------+------------+---------+--------+------+--------------+----------+-------------+\n",
            "|EMPLOYEE_ID|FIRST_NAME|  LAST_NAME|   EMAIL|PHONE_NUMBER|HIRE_DATE|  JOB_ID|SALARY|COMMISSION_PCT|MANAGER_ID|DEPARTMENT_ID|\n",
            "+-----------+----------+-----------+--------+------------+---------+--------+------+--------------+----------+-------------+\n",
            "|        132|        TJ|      Olson| TJOLSON|650.124.8234|10-APR-07|ST_CLERK|  2100|            - |       121|           50|\n",
            "|        128|    Steven|     Markle| SMARKLE|650.124.1434|08-MAR-08|ST_CLERK|  2200|            - |       120|           50|\n",
            "|        136|     Hazel| Philtanker|HPHILTAN|650.127.1634|06-FEB-08|ST_CLERK|  2200|            - |       122|           50|\n",
            "|        127|     James|     Landry| JLANDRY|650.124.1334|14-JAN-07|ST_CLERK|  2400|            - |       120|           50|\n",
            "|        135|        Ki|        Gee|    KGEE|650.127.1734|12-DEC-07|ST_CLERK|  2400|            - |       122|           50|\n",
            "|        131|     James|     Marlow| JAMRLOW|650.124.7234|16-FEB-05|ST_CLERK|  2500|            - |       121|           50|\n",
            "|        119|     Karen| Colmenares|KCOLMENA|515.127.4566|10-AUG-07|PU_CLERK|  2500|            - |       114|           30|\n",
            "|        140|    Joshua|      Patel|  JPATEL|650.121.1834|06-APR-06|ST_CLERK|  2500|            - |       123|           50|\n",
            "|        198|    Donald|   OConnell|DOCONNEL|650.507.9833|21-JUN-07|SH_CLERK|  2600|            - |       124|           50|\n",
            "|        199|   Douglas|      Grant|  DGRANT|650.507.9844|13-JAN-08|SH_CLERK|  2600|            - |       124|           50|\n",
            "|        118|       Guy|     Himuro| GHIMURO|515.127.4565|15-NOV-06|PU_CLERK|  2600|            - |       114|           30|\n",
            "|        126|     Irene|Mikkilineni|IMIKKILI|650.124.1224|28-SEP-06|ST_CLERK|  2700|            - |       120|           50|\n",
            "|        139|      John|        Seo|    JSEO|650.121.2019|12-FEB-06|ST_CLERK|  2700|            - |       123|           50|\n",
            "|        117|     Sigal|     Tobias| STOBIAS|515.127.4564|24-JUL-05|PU_CLERK|  2800|            - |       114|           30|\n",
            "|        130|     Mozhe|   Atkinson|MATKINSO|650.124.6234|30-OCT-05|ST_CLERK|  2800|            - |       121|           50|\n",
            "|        116|    Shelli|      Baida|  SBAIDA|515.127.4563|24-DEC-05|PU_CLERK|  2900|            - |       114|           30|\n",
            "|        134|   Michael|     Rogers| MROGERS|650.127.1834|26-AUG-06|ST_CLERK|  2900|            - |       122|           50|\n",
            "|        115| Alexander|       Khoo|   AKHOO|515.127.4562|18-MAY-03|PU_CLERK|  3100|            - |       114|           30|\n",
            "|        125|     Julia|      Nayer|  JNAYER|650.124.1214|16-JUL-05|ST_CLERK|  3200|            - |       120|           50|\n",
            "|        138|   Stephen|     Stiles| SSTILES|650.121.2034|26-OCT-05|ST_CLERK|  3200|            - |       123|           50|\n",
            "+-----------+----------+-----------+--------+------------+---------+--------+------+--------------+----------+-------------+\n",
            "only showing top 20 rows\n",
            "\n"
          ]
        }
      ]
    },
    {
      "cell_type": "code",
      "source": [
        "df.orderBy('LAST_NAME','SALARY').show()"
      ],
      "metadata": {
        "colab": {
          "base_uri": "https://localhost:8080/"
        },
        "id": "Cj3RkCjeHTxr",
        "outputId": "ed49f9ee-4730-4624-9d36-1ee9e12b9634"
      },
      "execution_count": 47,
      "outputs": [
        {
          "output_type": "stream",
          "name": "stdout",
          "text": [
            "+-----------+----------+----------+--------+------------+---------+----------+------+--------------+----------+-------------+\n",
            "|EMPLOYEE_ID|FIRST_NAME| LAST_NAME|   EMAIL|PHONE_NUMBER|HIRE_DATE|    JOB_ID|SALARY|COMMISSION_PCT|MANAGER_ID|DEPARTMENT_ID|\n",
            "+-----------+----------+----------+--------+------------+---------+----------+------+--------------+----------+-------------+\n",
            "|        130|     Mozhe|  Atkinson|MATKINSO|650.124.6234|30-OCT-05|  ST_CLERK|  2800|            - |       121|           50|\n",
            "|        105|     David|    Austin| DAUSTIN|590.423.4569|25-JUN-05|   IT_PROG|  4800|            - |       103|           60|\n",
            "|        204|   Hermann|      Baer|   HBAER|515.123.8888|07-JUN-02|    PR_REP| 10000|            - |       101|           70|\n",
            "|        116|    Shelli|     Baida|  SBAIDA|515.127.4563|24-DEC-05|  PU_CLERK|  2900|            - |       114|           30|\n",
            "|        129|     Laura|    Bissot| LBISSOT|650.124.5234|20-AUG-05|  ST_CLERK|  3300|            - |       121|           50|\n",
            "|        110|      John|      Chen|   JCHEN|515.124.4269|28-SEP-05|FI_ACCOUNT|  8200|            - |       108|          100|\n",
            "|        119|     Karen|Colmenares|KCOLMENA|515.127.4566|10-AUG-07|  PU_CLERK|  2500|            - |       114|           30|\n",
            "|        102|       Lex|   De Haan| LDEHAAN|515.123.4569|13-JAN-01|     AD_VP| 17000|            - |       100|           90|\n",
            "|        104|     Bruce|     Ernst|  BERNST|590.423.4568|21-MAY-07|   IT_PROG|  6000|            - |       103|           60|\n",
            "|        109|    Daniel|    Faviet| DFAVIET|515.124.4169|16-AUG-02|FI_ACCOUNT|  9000|            - |       108|          100|\n",
            "|        202|       Pat|       Fay|    PFAY|603.123.6666|17-AUG-05|    MK_REP|  6000|            - |       201|           20|\n",
            "|        121|      Adam|     Fripp|  AFRIPP|650.123.2234|10-APR-05|    ST_MAN|  8200|            - |       100|           50|\n",
            "|        135|        Ki|       Gee|    KGEE|650.127.1734|12-DEC-07|  ST_CLERK|  2400|            - |       122|           50|\n",
            "|        206|   William|     Gietz|  WGIETZ|515.123.8181|07-JUN-02|AC_ACCOUNT|  8300|            - |       205|          110|\n",
            "|        199|   Douglas|     Grant|  DGRANT|650.507.9844|13-JAN-08|  SH_CLERK|  2600|            - |       124|           50|\n",
            "|        108|     Nancy| Greenberg|NGREENBE|515.124.4569|17-AUG-02|    FI_MGR| 12008|            - |       101|          100|\n",
            "|        201|   Michael| Hartstein|MHARTSTE|515.123.5555|17-FEB-04|    MK_MAN| 13000|            - |       100|           20|\n",
            "|        205|   Shelley|   Higgins|SHIGGINS|515.123.8080|07-JUN-02|    AC_MGR| 12008|            - |       101|          110|\n",
            "|        118|       Guy|    Himuro| GHIMURO|515.127.4565|15-NOV-06|  PU_CLERK|  2600|            - |       114|           30|\n",
            "|        103| Alexander|    Hunold| AHUNOLD|590.423.4567|03-JAN-06|   IT_PROG|  9000|            - |       102|           60|\n",
            "+-----------+----------+----------+--------+------------+---------+----------+------+--------------+----------+-------------+\n",
            "only showing top 20 rows\n",
            "\n"
          ]
        }
      ]
    },
    {
      "cell_type": "code",
      "source": [
        "df.orderBy(col('SALARY').desc()).show()"
      ],
      "metadata": {
        "colab": {
          "base_uri": "https://localhost:8080/"
        },
        "id": "3FAj0xTKCdyu",
        "outputId": "416c4a7d-9687-40ee-dcd2-36b8abc7de9d"
      },
      "execution_count": 43,
      "outputs": [
        {
          "output_type": "stream",
          "name": "stdout",
          "text": [
            "+-----------+-----------+---------+--------+------------+---------+----------+------+--------------+----------+-------------+\n",
            "|EMPLOYEE_ID| FIRST_NAME|LAST_NAME|   EMAIL|PHONE_NUMBER|HIRE_DATE|    JOB_ID|SALARY|COMMISSION_PCT|MANAGER_ID|DEPARTMENT_ID|\n",
            "+-----------+-----------+---------+--------+------------+---------+----------+------+--------------+----------+-------------+\n",
            "|        100|     Steven|     King|   SKING|515.123.4567|17-JUN-03|   AD_PRES| 24000|            - |        - |           90|\n",
            "|        101|      Neena|  Kochhar|NKOCHHAR|515.123.4568|21-SEP-05|     AD_VP| 17000|            - |       100|           90|\n",
            "|        102|        Lex|  De Haan| LDEHAAN|515.123.4569|13-JAN-01|     AD_VP| 17000|            - |       100|           90|\n",
            "|        201|    Michael|Hartstein|MHARTSTE|515.123.5555|17-FEB-04|    MK_MAN| 13000|            - |       100|           20|\n",
            "|        205|    Shelley|  Higgins|SHIGGINS|515.123.8080|07-JUN-02|    AC_MGR| 12008|            - |       101|          110|\n",
            "|        108|      Nancy|Greenberg|NGREENBE|515.124.4569|17-AUG-02|    FI_MGR| 12008|            - |       101|          100|\n",
            "|        114|        Den| Raphaely|DRAPHEAL|515.127.4561|07-DEC-02|    PU_MAN| 11000|            - |       100|           30|\n",
            "|        204|    Hermann|     Baer|   HBAER|515.123.8888|07-JUN-02|    PR_REP| 10000|            - |       101|           70|\n",
            "|        103|  Alexander|   Hunold| AHUNOLD|590.423.4567|03-JAN-06|   IT_PROG|  9000|            - |       102|           60|\n",
            "|        109|     Daniel|   Faviet| DFAVIET|515.124.4169|16-AUG-02|FI_ACCOUNT|  9000|            - |       108|          100|\n",
            "|        206|    William|    Gietz|  WGIETZ|515.123.8181|07-JUN-02|AC_ACCOUNT|  8300|            - |       205|          110|\n",
            "|        110|       John|     Chen|   JCHEN|515.124.4269|28-SEP-05|FI_ACCOUNT|  8200|            - |       108|          100|\n",
            "|        121|       Adam|    Fripp|  AFRIPP|650.123.2234|10-APR-05|    ST_MAN|  8200|            - |       100|           50|\n",
            "|        120|    Matthew|    Weiss|  MWEISS|650.123.1234|18-JUL-04|    ST_MAN|  8000|            - |       100|           50|\n",
            "|        122|      Payam| Kaufling|PKAUFLIN|650.123.3234|01-MAY-03|    ST_MAN|  7900|            - |       100|           50|\n",
            "|        112|Jose Manuel|    Urman| JMURMAN|515.124.4469|07-MAR-06|FI_ACCOUNT|  7800|            - |       108|          100|\n",
            "|        111|     Ismael|  Sciarra|ISCIARRA|515.124.4369|30-SEP-05|FI_ACCOUNT|  7700|            - |       108|          100|\n",
            "|        113|       Luis|     Popp|   LPOPP|515.124.4567|07-DEC-07|FI_ACCOUNT|  6900|            - |       108|          100|\n",
            "|        203|      Susan|   Mavris| SMAVRIS|515.123.7777|07-JUN-02|    HR_REP|  6500|            - |       101|           40|\n",
            "|        123|     Shanta|  Vollman|SVOLLMAN|650.123.4234|10-OCT-05|    ST_MAN|  6500|            - |       100|           50|\n",
            "+-----------+-----------+---------+--------+------------+---------+----------+------+--------------+----------+-------------+\n",
            "only showing top 20 rows\n",
            "\n"
          ]
        }
      ]
    },
    {
      "cell_type": "code",
      "source": [
        "df.orderBy(col('SALARY').desc(),col('FIRST_NAME').asc()).show()"
      ],
      "metadata": {
        "colab": {
          "base_uri": "https://localhost:8080/"
        },
        "id": "qhKL5_4EGMQv",
        "outputId": "6ddc93ff-68a8-4927-f40e-a7e79b62e572"
      },
      "execution_count": 44,
      "outputs": [
        {
          "output_type": "stream",
          "name": "stdout",
          "text": [
            "+-----------+-----------+---------+--------+------------+---------+----------+------+--------------+----------+-------------+\n",
            "|EMPLOYEE_ID| FIRST_NAME|LAST_NAME|   EMAIL|PHONE_NUMBER|HIRE_DATE|    JOB_ID|SALARY|COMMISSION_PCT|MANAGER_ID|DEPARTMENT_ID|\n",
            "+-----------+-----------+---------+--------+------------+---------+----------+------+--------------+----------+-------------+\n",
            "|        100|     Steven|     King|   SKING|515.123.4567|17-JUN-03|   AD_PRES| 24000|            - |        - |           90|\n",
            "|        102|        Lex|  De Haan| LDEHAAN|515.123.4569|13-JAN-01|     AD_VP| 17000|            - |       100|           90|\n",
            "|        101|      Neena|  Kochhar|NKOCHHAR|515.123.4568|21-SEP-05|     AD_VP| 17000|            - |       100|           90|\n",
            "|        201|    Michael|Hartstein|MHARTSTE|515.123.5555|17-FEB-04|    MK_MAN| 13000|            - |       100|           20|\n",
            "|        108|      Nancy|Greenberg|NGREENBE|515.124.4569|17-AUG-02|    FI_MGR| 12008|            - |       101|          100|\n",
            "|        205|    Shelley|  Higgins|SHIGGINS|515.123.8080|07-JUN-02|    AC_MGR| 12008|            - |       101|          110|\n",
            "|        114|        Den| Raphaely|DRAPHEAL|515.127.4561|07-DEC-02|    PU_MAN| 11000|            - |       100|           30|\n",
            "|        204|    Hermann|     Baer|   HBAER|515.123.8888|07-JUN-02|    PR_REP| 10000|            - |       101|           70|\n",
            "|        103|  Alexander|   Hunold| AHUNOLD|590.423.4567|03-JAN-06|   IT_PROG|  9000|            - |       102|           60|\n",
            "|        109|     Daniel|   Faviet| DFAVIET|515.124.4169|16-AUG-02|FI_ACCOUNT|  9000|            - |       108|          100|\n",
            "|        206|    William|    Gietz|  WGIETZ|515.123.8181|07-JUN-02|AC_ACCOUNT|  8300|            - |       205|          110|\n",
            "|        121|       Adam|    Fripp|  AFRIPP|650.123.2234|10-APR-05|    ST_MAN|  8200|            - |       100|           50|\n",
            "|        110|       John|     Chen|   JCHEN|515.124.4269|28-SEP-05|FI_ACCOUNT|  8200|            - |       108|          100|\n",
            "|        120|    Matthew|    Weiss|  MWEISS|650.123.1234|18-JUL-04|    ST_MAN|  8000|            - |       100|           50|\n",
            "|        122|      Payam| Kaufling|PKAUFLIN|650.123.3234|01-MAY-03|    ST_MAN|  7900|            - |       100|           50|\n",
            "|        112|Jose Manuel|    Urman| JMURMAN|515.124.4469|07-MAR-06|FI_ACCOUNT|  7800|            - |       108|          100|\n",
            "|        111|     Ismael|  Sciarra|ISCIARRA|515.124.4369|30-SEP-05|FI_ACCOUNT|  7700|            - |       108|          100|\n",
            "|        113|       Luis|     Popp|   LPOPP|515.124.4567|07-DEC-07|FI_ACCOUNT|  6900|            - |       108|          100|\n",
            "|        123|     Shanta|  Vollman|SVOLLMAN|650.123.4234|10-OCT-05|    ST_MAN|  6500|            - |       100|           50|\n",
            "|        203|      Susan|   Mavris| SMAVRIS|515.123.7777|07-JUN-02|    HR_REP|  6500|            - |       101|           40|\n",
            "+-----------+-----------+---------+--------+------------+---------+----------+------+--------------+----------+-------------+\n",
            "only showing top 20 rows\n",
            "\n"
          ]
        }
      ]
    },
    {
      "cell_type": "code",
      "source": [
        "df.sort('SALARY').show()"
      ],
      "metadata": {
        "colab": {
          "base_uri": "https://localhost:8080/"
        },
        "id": "1KSEKvWldfDw",
        "outputId": "0b4e3f98-92b0-46e6-d048-aefbe01db0b4"
      },
      "execution_count": 48,
      "outputs": [
        {
          "output_type": "stream",
          "name": "stdout",
          "text": [
            "+-----------+----------+-----------+--------+------------+---------+--------+------+--------------+----------+-------------+\n",
            "|EMPLOYEE_ID|FIRST_NAME|  LAST_NAME|   EMAIL|PHONE_NUMBER|HIRE_DATE|  JOB_ID|SALARY|COMMISSION_PCT|MANAGER_ID|DEPARTMENT_ID|\n",
            "+-----------+----------+-----------+--------+------------+---------+--------+------+--------------+----------+-------------+\n",
            "|        132|        TJ|      Olson| TJOLSON|650.124.8234|10-APR-07|ST_CLERK|  2100|            - |       121|           50|\n",
            "|        128|    Steven|     Markle| SMARKLE|650.124.1434|08-MAR-08|ST_CLERK|  2200|            - |       120|           50|\n",
            "|        136|     Hazel| Philtanker|HPHILTAN|650.127.1634|06-FEB-08|ST_CLERK|  2200|            - |       122|           50|\n",
            "|        127|     James|     Landry| JLANDRY|650.124.1334|14-JAN-07|ST_CLERK|  2400|            - |       120|           50|\n",
            "|        135|        Ki|        Gee|    KGEE|650.127.1734|12-DEC-07|ST_CLERK|  2400|            - |       122|           50|\n",
            "|        131|     James|     Marlow| JAMRLOW|650.124.7234|16-FEB-05|ST_CLERK|  2500|            - |       121|           50|\n",
            "|        119|     Karen| Colmenares|KCOLMENA|515.127.4566|10-AUG-07|PU_CLERK|  2500|            - |       114|           30|\n",
            "|        140|    Joshua|      Patel|  JPATEL|650.121.1834|06-APR-06|ST_CLERK|  2500|            - |       123|           50|\n",
            "|        198|    Donald|   OConnell|DOCONNEL|650.507.9833|21-JUN-07|SH_CLERK|  2600|            - |       124|           50|\n",
            "|        199|   Douglas|      Grant|  DGRANT|650.507.9844|13-JAN-08|SH_CLERK|  2600|            - |       124|           50|\n",
            "|        118|       Guy|     Himuro| GHIMURO|515.127.4565|15-NOV-06|PU_CLERK|  2600|            - |       114|           30|\n",
            "|        126|     Irene|Mikkilineni|IMIKKILI|650.124.1224|28-SEP-06|ST_CLERK|  2700|            - |       120|           50|\n",
            "|        139|      John|        Seo|    JSEO|650.121.2019|12-FEB-06|ST_CLERK|  2700|            - |       123|           50|\n",
            "|        117|     Sigal|     Tobias| STOBIAS|515.127.4564|24-JUL-05|PU_CLERK|  2800|            - |       114|           30|\n",
            "|        130|     Mozhe|   Atkinson|MATKINSO|650.124.6234|30-OCT-05|ST_CLERK|  2800|            - |       121|           50|\n",
            "|        116|    Shelli|      Baida|  SBAIDA|515.127.4563|24-DEC-05|PU_CLERK|  2900|            - |       114|           30|\n",
            "|        134|   Michael|     Rogers| MROGERS|650.127.1834|26-AUG-06|ST_CLERK|  2900|            - |       122|           50|\n",
            "|        115| Alexander|       Khoo|   AKHOO|515.127.4562|18-MAY-03|PU_CLERK|  3100|            - |       114|           30|\n",
            "|        125|     Julia|      Nayer|  JNAYER|650.124.1214|16-JUL-05|ST_CLERK|  3200|            - |       120|           50|\n",
            "|        138|   Stephen|     Stiles| SSTILES|650.121.2034|26-OCT-05|ST_CLERK|  3200|            - |       123|           50|\n",
            "+-----------+----------+-----------+--------+------------+---------+--------+------+--------------+----------+-------------+\n",
            "only showing top 20 rows\n",
            "\n"
          ]
        }
      ]
    },
    {
      "cell_type": "markdown",
      "source": [
        "Sorting After Aggregation"
      ],
      "metadata": {
        "id": "9NI4j4jod5rB"
      }
    },
    {
      "cell_type": "code",
      "source": [
        "df.groupBy('JOB_ID').agg(F.sum('SALARY').alias('TOTAL_SALARY')).orderBy('TOTAL_SALARY').show()"
      ],
      "metadata": {
        "colab": {
          "base_uri": "https://localhost:8080/"
        },
        "id": "bMAxDIqTds_w",
        "outputId": "01b88a3b-f5bc-4b0f-c812-096b1f21d4a9"
      },
      "execution_count": 51,
      "outputs": [
        {
          "output_type": "stream",
          "name": "stdout",
          "text": [
            "+----------+------------+\n",
            "|    JOB_ID|TOTAL_SALARY|\n",
            "+----------+------------+\n",
            "|   AD_ASST|        4400|\n",
            "|  SH_CLERK|        5200|\n",
            "|    MK_REP|        6000|\n",
            "|    HR_REP|        6500|\n",
            "|AC_ACCOUNT|        8300|\n",
            "|    PR_REP|       10000|\n",
            "|    PU_MAN|       11000|\n",
            "|    FI_MGR|       12008|\n",
            "|    AC_MGR|       12008|\n",
            "|    MK_MAN|       13000|\n",
            "|  PU_CLERK|       13900|\n",
            "|   AD_PRES|       24000|\n",
            "|   IT_PROG|       28800|\n",
            "|     AD_VP|       34000|\n",
            "|    ST_MAN|       36400|\n",
            "|FI_ACCOUNT|       39600|\n",
            "|  ST_CLERK|       44000|\n",
            "+----------+------------+\n",
            "\n"
          ]
        }
      ]
    },
    {
      "cell_type": "code",
      "source": [
        "df.groupBy('JOB_ID').agg(F.sum('SALARY').alias('TOTAL_SALARY')).orderBy(F.col('TOTAL_SALARY').desc()).show()"
      ],
      "metadata": {
        "colab": {
          "base_uri": "https://localhost:8080/"
        },
        "id": "8dr_VNPzesbT",
        "outputId": "5cd6c350-b02c-4d54-83f3-439e43857cd6"
      },
      "execution_count": 52,
      "outputs": [
        {
          "output_type": "stream",
          "name": "stdout",
          "text": [
            "+----------+------------+\n",
            "|    JOB_ID|TOTAL_SALARY|\n",
            "+----------+------------+\n",
            "|  ST_CLERK|       44000|\n",
            "|FI_ACCOUNT|       39600|\n",
            "|    ST_MAN|       36400|\n",
            "|     AD_VP|       34000|\n",
            "|   IT_PROG|       28800|\n",
            "|   AD_PRES|       24000|\n",
            "|  PU_CLERK|       13900|\n",
            "|    MK_MAN|       13000|\n",
            "|    FI_MGR|       12008|\n",
            "|    AC_MGR|       12008|\n",
            "|    PU_MAN|       11000|\n",
            "|    PR_REP|       10000|\n",
            "|AC_ACCOUNT|        8300|\n",
            "|    HR_REP|        6500|\n",
            "|    MK_REP|        6000|\n",
            "|  SH_CLERK|        5200|\n",
            "|   AD_ASST|        4400|\n",
            "+----------+------------+\n",
            "\n"
          ]
        }
      ]
    },
    {
      "cell_type": "markdown",
      "source": [
        "Inner,Outer Joins"
      ],
      "metadata": {
        "id": "JheUBv08hTaS"
      }
    },
    {
      "cell_type": "code",
      "source": [
        "products=[\n",
        "    (101,\"Laptop\",1000),\n",
        "    (102,\"Desktop\",2000),\n",
        "    (103,\"Mobile\",3000),\n",
        "    (104,\"Tablet\",4000),\n",
        "    (105,\"TV\",5000)\n",
        "]\n",
        "pro_columns=[\"PRODUCT_ID\",\"PRODUCT_NAME\",\"PRICE\"]\n",
        "spark=SparkSession.builder.appName('inner_join_ex').getOrCreate()\n",
        "product_df=spark.createDataFrame(products,pro_columns)\n",
        "product_df.show()\n",
        "\n",
        "\n",
        "\n",
        "\n"
      ],
      "metadata": {
        "colab": {
          "base_uri": "https://localhost:8080/"
        },
        "id": "jW1FxFWNhb1t",
        "outputId": "9594fddd-7cd4-4a2d-e87d-3f8b3aa89cc6"
      },
      "execution_count": 93,
      "outputs": [
        {
          "output_type": "stream",
          "name": "stdout",
          "text": [
            "+----------+------------+-----+\n",
            "|PRODUCT_ID|PRODUCT_NAME|PRICE|\n",
            "+----------+------------+-----+\n",
            "|       101|      Laptop| 1000|\n",
            "|       102|     Desktop| 2000|\n",
            "|       103|      Mobile| 3000|\n",
            "|       104|      Tablet| 4000|\n",
            "|       105|          TV| 5000|\n",
            "+----------+------------+-----+\n",
            "\n"
          ]
        }
      ]
    },
    {
      "cell_type": "code",
      "source": [
        "sales=[\n",
        "    (101,20),\n",
        "    (102,210),\n",
        "    (104,40),\n",
        "]\n",
        "columns=[\"PRODUCT_ID\",\"QUANTITY_SOLD\"]\n",
        "sales_df=spark.createDataFrame(sales,columns)\n",
        "sales_df.show()"
      ],
      "metadata": {
        "colab": {
          "base_uri": "https://localhost:8080/"
        },
        "id": "BbXo7vH3imfy",
        "outputId": "ae971ac0-66c0-44a3-e56a-dd4761e46ab2"
      },
      "execution_count": 94,
      "outputs": [
        {
          "output_type": "stream",
          "name": "stdout",
          "text": [
            "+----------+-------------+\n",
            "|PRODUCT_ID|QUANTITY_SOLD|\n",
            "+----------+-------------+\n",
            "|       101|           20|\n",
            "|       102|          210|\n",
            "|       104|           40|\n",
            "+----------+-------------+\n",
            "\n"
          ]
        }
      ]
    },
    {
      "cell_type": "markdown",
      "source": [
        " 1. Inner Join (Only Matching Records)"
      ],
      "metadata": {
        "id": "d-g8wueLj9Je"
      }
    },
    {
      "cell_type": "code",
      "source": [
        "inner_join = product_df.join(sales_df, on='PRODUCT_ID', how='inner')\n",
        "inner_join.show()\n"
      ],
      "metadata": {
        "colab": {
          "base_uri": "https://localhost:8080/"
        },
        "id": "z49lWI5alriA",
        "outputId": "a9f2bbde-c663-451a-ab83-8716b1f6246f"
      },
      "execution_count": 98,
      "outputs": [
        {
          "output_type": "stream",
          "name": "stdout",
          "text": [
            "+----------+------------+-----+-------------+\n",
            "|PRODUCT_ID|PRODUCT_NAME|PRICE|QUANTITY_SOLD|\n",
            "+----------+------------+-----+-------------+\n",
            "|       101|      Laptop| 1000|           20|\n",
            "|       102|     Desktop| 2000|          210|\n",
            "|       104|      Tablet| 4000|           40|\n",
            "+----------+------------+-----+-------------+\n",
            "\n"
          ]
        }
      ]
    },
    {
      "cell_type": "markdown",
      "source": [
        " Outer Join (All Records from Both Tables)"
      ],
      "metadata": {
        "id": "tmxiOYLr_Xu_"
      }
    },
    {
      "cell_type": "code",
      "source": [
        "outer_join = product_df.join(sales_df, on=\"PRODUCT_ID\", how=\"outer\")\n",
        "outer_join.show()\n"
      ],
      "metadata": {
        "colab": {
          "base_uri": "https://localhost:8080/"
        },
        "id": "VunwMiJ5_Zw-",
        "outputId": "df98280d-6ff2-4509-aba5-40714af8b7e5"
      },
      "execution_count": 101,
      "outputs": [
        {
          "output_type": "stream",
          "name": "stdout",
          "text": [
            "+----------+------------+-----+-------------+\n",
            "|PRODUCT_ID|PRODUCT_NAME|PRICE|QUANTITY_SOLD|\n",
            "+----------+------------+-----+-------------+\n",
            "|       101|      Laptop| 1000|           20|\n",
            "|       102|     Desktop| 2000|          210|\n",
            "|       103|      Mobile| 3000|         NULL|\n",
            "|       104|      Tablet| 4000|           40|\n",
            "|       105|          TV| 5000|         NULL|\n",
            "+----------+------------+-----+-------------+\n",
            "\n"
          ]
        }
      ]
    },
    {
      "cell_type": "markdown",
      "source": [
        "Left Join (All Records from products)"
      ],
      "metadata": {
        "id": "uP0qm8Zd_5T9"
      }
    },
    {
      "cell_type": "code",
      "source": [
        "left_join = product_df.join(sales_df, on=\"PRODUCT_ID\", how=\"left\")\n",
        "left_join.show()\n"
      ],
      "metadata": {
        "colab": {
          "base_uri": "https://localhost:8080/"
        },
        "id": "D2IcFPD2_7VD",
        "outputId": "1b6af2ce-7493-4f7e-bf45-1b3931a9235d"
      },
      "execution_count": 100,
      "outputs": [
        {
          "output_type": "stream",
          "name": "stdout",
          "text": [
            "+----------+------------+-----+-------------+\n",
            "|PRODUCT_ID|PRODUCT_NAME|PRICE|QUANTITY_SOLD|\n",
            "+----------+------------+-----+-------------+\n",
            "|       101|      Laptop| 1000|           20|\n",
            "|       102|     Desktop| 2000|          210|\n",
            "|       103|      Mobile| 3000|         NULL|\n",
            "|       104|      Tablet| 4000|           40|\n",
            "|       105|          TV| 5000|         NULL|\n",
            "+----------+------------+-----+-------------+\n",
            "\n"
          ]
        }
      ]
    },
    {
      "cell_type": "markdown",
      "source": [
        " Right Join (All Records from sales)"
      ],
      "metadata": {
        "id": "Ye2E6HIsAw8x"
      }
    },
    {
      "cell_type": "code",
      "source": [
        "right_join = product_df.join(sales_df, on=\"PRODUCT_ID\", how=\"right\")\n",
        "right_join.show()\n"
      ],
      "metadata": {
        "colab": {
          "base_uri": "https://localhost:8080/"
        },
        "id": "N6Nf_RaaAzK6",
        "outputId": "24c540bc-7911-4a39-8cc7-b1f6251cd559"
      },
      "execution_count": 102,
      "outputs": [
        {
          "output_type": "stream",
          "name": "stdout",
          "text": [
            "+----------+------------+-----+-------------+\n",
            "|PRODUCT_ID|PRODUCT_NAME|PRICE|QUANTITY_SOLD|\n",
            "+----------+------------+-----+-------------+\n",
            "|       101|      Laptop| 1000|           20|\n",
            "|       104|      Tablet| 4000|           40|\n",
            "|       102|     Desktop| 2000|          210|\n",
            "+----------+------------+-----+-------------+\n",
            "\n"
          ]
        }
      ]
    }
  ]
}