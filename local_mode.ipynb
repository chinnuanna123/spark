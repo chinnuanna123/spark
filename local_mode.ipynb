{
  "nbformat": 4,
  "nbformat_minor": 0,
  "metadata": {
    "colab": {
      "provenance": [],
      "authorship_tag": "ABX9TyPZzD8CmSdIEG5fHTtTscG8",
      "include_colab_link": true
    },
    "kernelspec": {
      "name": "python3",
      "display_name": "Python 3"
    },
    "language_info": {
      "name": "python"
    }
  },
  "cells": [
    {
      "cell_type": "markdown",
      "metadata": {
        "id": "view-in-github",
        "colab_type": "text"
      },
      "source": [
        "<a href=\"https://colab.research.google.com/github/chinnuanna123/spark/blob/main/local_mode.ipynb\" target=\"_parent\"><img src=\"https://colab.research.google.com/assets/colab-badge.svg\" alt=\"Open In Colab\"/></a>"
      ]
    },
    {
      "cell_type": "code",
      "execution_count": 4,
      "metadata": {
        "colab": {
          "base_uri": "https://localhost:8080/"
        },
        "id": "FvWMLSiafgQc",
        "outputId": "640a2efe-eb5d-4f59-846d-e562eb567d57"
      },
      "outputs": [
        {
          "output_type": "stream",
          "name": "stdout",
          "text": [
            "Requirement already satisfied: pyspark in /usr/local/lib/python3.11/dist-packages (3.5.5)\n",
            "Requirement already satisfied: py4j==0.10.9.7 in /usr/local/lib/python3.11/dist-packages (from pyspark) (0.10.9.7)\n"
          ]
        }
      ],
      "source": [
        "!pip install pyspark\n"
      ]
    },
    {
      "cell_type": "markdown",
      "source": [
        "creating spark session"
      ],
      "metadata": {
        "id": "3e7H_Wnzz_pA"
      }
    },
    {
      "cell_type": "code",
      "source": [
        "from pyspark.sql import SparkSession\n",
        "spark = SparkSession.builder.appName(\"SparkCreation\").getOrCreate()\n",
        "print(\"Created Spark Session\")\n"
      ],
      "metadata": {
        "colab": {
          "base_uri": "https://localhost:8080/"
        },
        "id": "6I0Ns40S0C9T",
        "outputId": "09782167-2f33-4ebe-de3d-ed6d1deddff8"
      },
      "execution_count": 5,
      "outputs": [
        {
          "output_type": "stream",
          "name": "stdout",
          "text": [
            "Created Spark Session\n"
          ]
        }
      ]
    },
    {
      "cell_type": "markdown",
      "source": [
        "Creating and dispalying Dataframe"
      ],
      "metadata": {
        "id": "bJWYawgjzzNC"
      }
    },
    {
      "cell_type": "code",
      "source": [
        "from pyspark.sql import SparkSession\n",
        "\n",
        "# Create a Spark session\n",
        "#spark = SparkSession.builder.appName(\"DataFrameExample\").getOrCreate()\n",
        "# Create a Spark session in local mode\n",
        "spark = SparkSession.builder.master(\"local[*]\").appName(\"LocalModeExample\").getOrCreate()\n",
        "\n",
        "# Create a sample DataFrame\n",
        "data = [(\"Alice\", 25), (\"Bob\", 30), (\"Charlie\", 35)]\n",
        "columns = [\"Name\", \"Age\"]\n",
        "\n",
        "df = spark.createDataFrame(data, columns)\n",
        "\n",
        "# Display the DataFrame\n",
        "df.show()\n",
        "\n",
        "# Stop Spark session\n",
        "#spark.stop()\n"
      ],
      "metadata": {
        "colab": {
          "base_uri": "https://localhost:8080/"
        },
        "id": "_nUA91F4gI21",
        "outputId": "a7c214a8-188c-4253-827a-21d9cebdd9c2"
      },
      "execution_count": 6,
      "outputs": [
        {
          "output_type": "stream",
          "name": "stdout",
          "text": [
            "+-------+---+\n",
            "|   Name|Age|\n",
            "+-------+---+\n",
            "|  Alice| 25|\n",
            "|    Bob| 30|\n",
            "|Charlie| 35|\n",
            "+-------+---+\n",
            "\n"
          ]
        }
      ]
    },
    {
      "cell_type": "markdown",
      "source": [
        "Checking spark version\n"
      ],
      "metadata": {
        "id": "RH5YYVHYyF75"
      }
    },
    {
      "cell_type": "code",
      "source": [
        "spark.version\n"
      ],
      "metadata": {
        "colab": {
          "base_uri": "https://localhost:8080/",
          "height": 35
        },
        "id": "u0AJwMZjyKcl",
        "outputId": "d771d9ff-5360-45c7-aead-71b9780b38cd"
      },
      "execution_count": 11,
      "outputs": [
        {
          "output_type": "execute_result",
          "data": {
            "text/plain": [
              "'3.5.5'"
            ],
            "application/vnd.google.colaboratory.intrinsic+json": {
              "type": "string"
            }
          },
          "metadata": {},
          "execution_count": 11
        }
      ]
    },
    {
      "cell_type": "markdown",
      "source": [
        "Writing a CSV File Using Pandas\n",
        "python\n",
        "\n"
      ],
      "metadata": {
        "id": "2ffVyO2MuAO0"
      }
    },
    {
      "cell_type": "code",
      "source": [
        "import pandas as pd\n",
        "\n",
        "# Create a sample DataFrame\n",
        "data = {\"Name\": [\"Alice\", \"Bob\", \"Charlie\"], \"Age\": [25, 30, 35]}\n",
        "df = pd.DataFrame(data)\n",
        "\n",
        "# Save to CSV (in Colab session)\n",
        "df.to_csv(\"sample.csv\", index=False)\n",
        "\n",
        "# Verify the file was created\n",
        "!ls\n"
      ],
      "metadata": {
        "id": "K002oeeMgPtV",
        "colab": {
          "base_uri": "https://localhost:8080/"
        },
        "outputId": "3d968bb3-7138-4224-86fa-29ae77ad385f"
      },
      "execution_count": 7,
      "outputs": [
        {
          "output_type": "stream",
          "name": "stdout",
          "text": [
            "sample.csv  sample_data\n"
          ]
        }
      ]
    },
    {
      "cell_type": "markdown",
      "source": [
        "Reading a CSV File"
      ],
      "metadata": {
        "id": "tmmBtz0TukjR"
      }
    },
    {
      "cell_type": "code",
      "source": [
        "df = spark.read.csv(\"sample.csv\", header=True, inferSchema=True)\n",
        "df.show()\n",
        "df.printSchema()\n"
      ],
      "metadata": {
        "colab": {
          "base_uri": "https://localhost:8080/"
        },
        "id": "Zpu4DpM1umV6",
        "outputId": "35a1e424-5e22-43f3-baea-2588047bc661"
      },
      "execution_count": 28,
      "outputs": [
        {
          "output_type": "stream",
          "name": "stdout",
          "text": [
            "+-------+---+\n",
            "|   Name|Age|\n",
            "+-------+---+\n",
            "|  Alice| 25|\n",
            "|    Bob| 30|\n",
            "|Charlie| 35|\n",
            "+-------+---+\n",
            "\n",
            "root\n",
            " |-- Name: string (nullable = true)\n",
            " |-- Age: integer (nullable = true)\n",
            "\n"
          ]
        }
      ]
    },
    {
      "cell_type": "markdown",
      "source": [
        "Add a New Column"
      ],
      "metadata": {
        "id": "piXI-tsOC2LB"
      }
    },
    {
      "cell_type": "code",
      "source": [
        "df.withColumn(\"new_age\", df.Age + 5).show()\n"
      ],
      "metadata": {
        "colab": {
          "base_uri": "https://localhost:8080/"
        },
        "id": "Xbb3SDjJC7xL",
        "outputId": "c4430246-cdc2-43dc-a06b-1657e2676b76"
      },
      "execution_count": 32,
      "outputs": [
        {
          "output_type": "stream",
          "name": "stdout",
          "text": [
            "+-------+---+-------+\n",
            "|   Name|Age|new_age|\n",
            "+-------+---+-------+\n",
            "|  Alice| 25|     30|\n",
            "|    Bob| 30|     35|\n",
            "|Charlie| 35|     40|\n",
            "+-------+---+-------+\n",
            "\n"
          ]
        }
      ]
    },
    {
      "cell_type": "markdown",
      "source": [
        "Select Specific Columns"
      ],
      "metadata": {
        "id": "FEpiprAkCwUa"
      }
    },
    {
      "cell_type": "code",
      "source": [
        "df.select(\"name\").show()\n",
        "df.select(\"name\", \"age\").show()\n"
      ],
      "metadata": {
        "colab": {
          "base_uri": "https://localhost:8080/"
        },
        "id": "N3SOCpBxCmEt",
        "outputId": "9eafa62e-fa1c-4a3f-886b-c0033d031381"
      },
      "execution_count": 29,
      "outputs": [
        {
          "output_type": "stream",
          "name": "stdout",
          "text": [
            "+-------+\n",
            "|   name|\n",
            "+-------+\n",
            "|  Alice|\n",
            "|    Bob|\n",
            "|Charlie|\n",
            "+-------+\n",
            "\n",
            "+-------+---+\n",
            "|   name|age|\n",
            "+-------+---+\n",
            "|  Alice| 25|\n",
            "|    Bob| 30|\n",
            "|Charlie| 35|\n",
            "+-------+---+\n",
            "\n"
          ]
        }
      ]
    },
    {
      "cell_type": "markdown",
      "source": [
        "Filtering and Selecting Data"
      ],
      "metadata": {
        "id": "rpBCCY-NvsYQ"
      }
    },
    {
      "cell_type": "code",
      "source": [
        "df.filter(df.Age > 28).select(\"Name\").show()"
      ],
      "metadata": {
        "colab": {
          "base_uri": "https://localhost:8080/"
        },
        "id": "eK-mOW5wvun9",
        "outputId": "77897c43-afff-4a93-d99f-6782bbf2ec61"
      },
      "execution_count": 10,
      "outputs": [
        {
          "output_type": "stream",
          "name": "stdout",
          "text": [
            "+-------+\n",
            "|   Name|\n",
            "+-------+\n",
            "|    Bob|\n",
            "|Charlie|\n",
            "+-------+\n",
            "\n"
          ]
        }
      ]
    },
    {
      "cell_type": "markdown",
      "source": [
        "Creating RDDs\n",
        "Parallelizing a Collection"
      ],
      "metadata": {
        "id": "jcFBK_Um6CMz"
      }
    },
    {
      "cell_type": "code",
      "source": [
        "from pyspark.sql import SparkSession\n",
        "\n",
        "# Create a Spark session\n",
        "spark = SparkSession.builder.appName(\"RDDExample\").getOrCreate()\n",
        "\n",
        "# Create an RDD from a Python list\n",
        "data = [1, 2, 3, 4, 5]\n",
        "rdd = spark.sparkContext.parallelize(data)\n",
        "\n",
        "# Show RDD contents\n",
        "print(rdd.collect())\n"
      ],
      "metadata": {
        "colab": {
          "base_uri": "https://localhost:8080/"
        },
        "id": "R2njnchE6HEX",
        "outputId": "6a8e32cb-e265-469a-dd1d-5e1d0d37067b"
      },
      "execution_count": 18,
      "outputs": [
        {
          "output_type": "stream",
          "name": "stdout",
          "text": [
            "[1, 2, 3, 4, 5]\n"
          ]
        }
      ]
    },
    {
      "cell_type": "markdown",
      "source": [
        "RDD Operations\n",
        "Transformations"
      ],
      "metadata": {
        "id": "v7uOFmHY7gJz"
      }
    },
    {
      "cell_type": "code",
      "source": [
        "numbers = spark.sparkContext.parallelize([1, 2, 3, 4, 5])\n",
        "squared = numbers.map(lambda x: x ** 2)\n",
        "print(squared.collect())  # Output: [1, 4, 9, 16, 25]\n"
      ],
      "metadata": {
        "colab": {
          "base_uri": "https://localhost:8080/"
        },
        "id": "KbDtgdgE7kRu",
        "outputId": "7c4ad3bd-e921-4e77-84c4-827f8631e5d6"
      },
      "execution_count": 19,
      "outputs": [
        {
          "output_type": "stream",
          "name": "stdout",
          "text": [
            "[1, 4, 9, 16, 25]\n"
          ]
        }
      ]
    },
    {
      "cell_type": "code",
      "source": [
        "numbers = spark.sparkContext.parallelize([1, 2, 3, 4, 5, 6, 7, 8, 9, 10])\n",
        "even_numbers = numbers.filter(lambda x: x % 2 == 0)\n",
        "print(even_numbers.collect())"
      ],
      "metadata": {
        "colab": {
          "base_uri": "https://localhost:8080/"
        },
        "id": "naMsyfWM8MFA",
        "outputId": "21cc9b8e-f6a4-4402-829a-0a5abad6c292"
      },
      "execution_count": 20,
      "outputs": [
        {
          "output_type": "stream",
          "name": "stdout",
          "text": [
            "[2, 4, 6, 8, 10]\n"
          ]
        }
      ]
    },
    {
      "cell_type": "code",
      "source": [
        "sentences = spark.sparkContext.parallelize([\"Hello World PySpark is fun flatMap is useful\"])\n",
        "words = sentences.flatMap(lambda sentence: sentence.split(\" \"))\n",
        "print(words.collect())"
      ],
      "metadata": {
        "colab": {
          "base_uri": "https://localhost:8080/"
        },
        "id": "F1LC9MtV8zc7",
        "outputId": "494910bc-d112-41dd-b120-0f13d519c275"
      },
      "execution_count": 22,
      "outputs": [
        {
          "output_type": "stream",
          "name": "stdout",
          "text": [
            "['Hello', 'World', 'PySpark', 'is', 'fun', 'flatMap', 'is', 'useful']\n"
          ]
        }
      ]
    },
    {
      "cell_type": "code",
      "source": [
        "# Create an RDD with key-value pairs (category, amount)\n",
        "transactions = spark.sparkContext.parallelize([\n",
        "    (\"electronics\", 1000),\n",
        "    (\"clothing\", 500),\n",
        "    (\"electronics\", 1200),\n",
        "    (\"clothing\", 700),\n",
        "    (\"grocery\", 200)\n",
        "])\n",
        "# Use reduceByKey to sum values by category\n",
        "category_totals = transactions.reduceByKey(lambda a, b: a + b)\n",
        "# Collect and print results\n",
        "print(category_totals.collect())\n"
      ],
      "metadata": {
        "colab": {
          "base_uri": "https://localhost:8080/"
        },
        "id": "iMo7XCEA9p1N",
        "outputId": "6aa140ed-dff0-4bb3-e180-4479a4531f17"
      },
      "execution_count": 23,
      "outputs": [
        {
          "output_type": "stream",
          "name": "stdout",
          "text": [
            "[('clothing', 1200), ('electronics', 2200), ('grocery', 200)]\n"
          ]
        }
      ]
    },
    {
      "cell_type": "markdown",
      "source": [
        "Word Count Using reduceByKey()"
      ],
      "metadata": {
        "id": "kSr8QWdi_zmx"
      }
    },
    {
      "cell_type": "code",
      "source": [
        "# Create an RDD of key-value pairs (word, count)\n",
        "words = spark.sparkContext.parallelize([\"apple\", \"banana\", \"apple\", \"orange\", \"banana\", \"apple\"])\n",
        "# Convert words into (word, 1) pairs\n",
        "word_pairs = words.map(lambda word: (word, 1))\n",
        "# Use reduceByKey to count occurrences\n",
        "word_counts = word_pairs.reduceByKey(lambda a, b: a + b)\n",
        "# Collect and print results\n",
        "print(word_counts.collect())"
      ],
      "metadata": {
        "colab": {
          "base_uri": "https://localhost:8080/"
        },
        "id": "u4J83AwW_0xK",
        "outputId": "f51cd6ce-a1b4-45a3-808b-20d2cc268279"
      },
      "execution_count": 25,
      "outputs": [
        {
          "output_type": "stream",
          "name": "stdout",
          "text": [
            "[('apple', 3), ('banana', 2), ('orange', 1)]\n"
          ]
        }
      ]
    },
    {
      "cell_type": "markdown",
      "source": [
        "Run SQL Queries on DataFrame"
      ],
      "metadata": {
        "id": "IhXUZTfFolIk"
      }
    },
    {
      "cell_type": "code",
      "source": [
        "df.createOrReplaceTempView(\"people\")\n",
        "spark.sql(\"SELECT * FROM people WHERE age > 25\").show()\n"
      ],
      "metadata": {
        "colab": {
          "base_uri": "https://localhost:8080/"
        },
        "id": "Wopgr8oOonKQ",
        "outputId": "78ff5b0e-74a0-4ce7-ac08-a1dc8ee6eae5"
      },
      "execution_count": 9,
      "outputs": [
        {
          "output_type": "stream",
          "name": "stdout",
          "text": [
            "+-------+---+\n",
            "|   Name|Age|\n",
            "+-------+---+\n",
            "|    Bob| 30|\n",
            "|Charlie| 35|\n",
            "+-------+---+\n",
            "\n"
          ]
        }
      ]
    },
    {
      "cell_type": "code",
      "source": [
        "df.orderBy(\"Age\").show()"
      ],
      "metadata": {
        "colab": {
          "base_uri": "https://localhost:8080/"
        },
        "id": "VhtVaconsyli",
        "outputId": "4e329c90-6ff7-445e-ef7c-5122db8550a7"
      },
      "execution_count": 10,
      "outputs": [
        {
          "output_type": "stream",
          "name": "stdout",
          "text": [
            "+-------+---+\n",
            "|   Name|Age|\n",
            "+-------+---+\n",
            "|  Alice| 25|\n",
            "|    Bob| 30|\n",
            "|Charlie| 35|\n",
            "+-------+---+\n",
            "\n"
          ]
        }
      ]
    }
  ]
}